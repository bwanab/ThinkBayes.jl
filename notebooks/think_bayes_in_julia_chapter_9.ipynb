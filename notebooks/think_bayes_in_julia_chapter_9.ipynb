{
 "cells": [
  {
   "cell_type": "code",
   "execution_count": 1,
   "metadata": {},
   "outputs": [],
   "source": [
    "using DataFrames\n",
    "using DataStructures\n",
    "using CSV\n",
    "using StatsPlots\n",
    "using Distributions\n",
    "using Interpolations\n",
    "include(\"../../ThinkBayes.jl/src/ThinkBayes.jl\")\n",
    "using .ThinkBayes"
   ]
  },
  {
   "cell_type": "code",
   "execution_count": 60,
   "metadata": {},
   "outputs": [
    {
     "data": {
      "text/html": [
       "<div class=\"data-frame\"><p>122 rows × 7 columns</p><table class=\"data-frame\"><thead><tr><th></th><th>Column1</th><th>Showcase 1</th><th>Showcase 2</th><th>Bid 1</th><th>Bid 2</th><th>Difference 1</th><th>Difference 2</th></tr><tr><th></th><th title=\"String\">String</th><th title=\"String7\">String7</th><th title=\"String7\">String7</th><th title=\"String7\">String7</th><th title=\"String7\">String7</th><th title=\"String7\">String7</th><th title=\"String7\">String7</th></tr></thead><tbody><tr><th>1</th><td>Sep. 24</td><td>40811</td><td>62485</td><td>22000</td><td>40500</td><td>18811</td><td>21985</td></tr><tr><th>2</th><td>Sep. 25</td><td>31259</td><td>32972</td><td>10000</td><td>21000</td><td>21259</td><td>11972</td></tr><tr><th>3</th><td>Sep. 26</td><td>41943</td><td>24755</td><td>39500</td><td>22500</td><td>2443</td><td>2255</td></tr><tr><th>4</th><td>Sep. 27</td><td>24946</td><td>34665</td><td>21513</td><td>32000</td><td>3433</td><td>2665</td></tr><tr><th>5</th><td>Sep. 28</td><td>26257</td><td>48635</td><td>23420</td><td>35000</td><td>2837</td><td>13635</td></tr><tr><th>6</th><td>Oct. 1</td><td>49928</td><td>42621</td><td>36500</td><td>34000</td><td>13428</td><td>8621</td></tr><tr><th>7</th><td>Oct. 2</td><td>30744</td><td>22253</td><td>26500</td><td>18000</td><td>4244</td><td>4253</td></tr><tr><th>8</th><td>Oct. 3</td><td>37671</td><td>24251</td><td>42000</td><td>26000</td><td>-4329</td><td>-1749</td></tr><tr><th>9</th><td>Oct. 4</td><td>32255</td><td>45871</td><td>25000</td><td>29000</td><td>7255</td><td>16871</td></tr><tr><th>10</th><td>Oct. 5</td><td>21983</td><td>31820</td><td>21650</td><td>33000</td><td>333</td><td>-1180</td></tr><tr><th>11</th><td>Oct. 8</td><td>40311</td><td>31399</td><td>22000</td><td>29000</td><td>18311</td><td>2399</td></tr><tr><th>12</th><td>Oct. 9</td><td>28573</td><td>33797</td><td>20582</td><td>27000</td><td>7991</td><td>6797</td></tr><tr><th>13</th><td>Oct. 10</td><td>28510</td><td>37252</td><td>14575</td><td>30500</td><td>13935</td><td>6752</td></tr><tr><th>14</th><td>Oct. 11</td><td>27341</td><td>30320</td><td>21200</td><td>28000</td><td>6141</td><td>2320</td></tr><tr><th>15</th><td>Oct. 12</td><td>29393</td><td>19290</td><td>30000</td><td>25000</td><td>-607</td><td>-5710</td></tr><tr><th>16</th><td>Oct. 15</td><td>24379</td><td>32262</td><td>27000</td><td>35000</td><td>-2621</td><td>-2738</td></tr><tr><th>17</th><td>Oct. 16</td><td>24289</td><td>20545</td><td>23491</td><td>31500</td><td>798</td><td>-10955</td></tr><tr><th>18</th><td>Oct. 17</td><td>32784</td><td>34727</td><td>32500</td><td>29000</td><td>284</td><td>5727</td></tr><tr><th>19</th><td>Oct. 18</td><td>41995</td><td>22554</td><td>28450</td><td>17500</td><td>13545</td><td>5054</td></tr><tr><th>20</th><td>Oct. 19</td><td>39939</td><td>21969</td><td>24000</td><td>27000</td><td>15939</td><td>-5031</td></tr><tr><th>21</th><td>Oct. 22</td><td>46829</td><td>23624</td><td>27000</td><td>24175</td><td>19829</td><td>-551</td></tr><tr><th>22</th><td>Oct. 23</td><td>24413</td><td>38948</td><td>19425</td><td>27528</td><td>4988</td><td>11420</td></tr><tr><th>23</th><td>Oct. 24</td><td>36607</td><td>29310</td><td>32813</td><td>22000</td><td>3794</td><td>7310</td></tr><tr><th>24</th><td>Oct. 25</td><td>43902</td><td>43453</td><td>27500</td><td>33001</td><td>16402</td><td>10452</td></tr><tr><th>&vellip;</th><td>&vellip;</td><td>&vellip;</td><td>&vellip;</td><td>&vellip;</td><td>&vellip;</td><td>&vellip;</td><td>&vellip;</td></tr></tbody></table></div>"
      ],
      "text/latex": [
       "\\begin{tabular}{r|ccccccc}\n",
       "\t& Column1 & Showcase 1 & Showcase 2 & Bid 1 & Bid 2 & Difference 1 & Difference 2\\\\\n",
       "\t\\hline\n",
       "\t& String & String7 & String7 & String7 & String7 & String7 & String7\\\\\n",
       "\t\\hline\n",
       "\t1 & Sep. 24 & 40811 & 62485 & 22000 & 40500 & 18811 & 21985 \\\\\n",
       "\t2 & Sep. 25 & 31259 & 32972 & 10000 & 21000 & 21259 & 11972 \\\\\n",
       "\t3 & Sep. 26 & 41943 & 24755 & 39500 & 22500 & 2443 & 2255 \\\\\n",
       "\t4 & Sep. 27 & 24946 & 34665 & 21513 & 32000 & 3433 & 2665 \\\\\n",
       "\t5 & Sep. 28 & 26257 & 48635 & 23420 & 35000 & 2837 & 13635 \\\\\n",
       "\t6 & Oct. 1 & 49928 & 42621 & 36500 & 34000 & 13428 & 8621 \\\\\n",
       "\t7 & Oct. 2 & 30744 & 22253 & 26500 & 18000 & 4244 & 4253 \\\\\n",
       "\t8 & Oct. 3 & 37671 & 24251 & 42000 & 26000 & -4329 & -1749 \\\\\n",
       "\t9 & Oct. 4 & 32255 & 45871 & 25000 & 29000 & 7255 & 16871 \\\\\n",
       "\t10 & Oct. 5 & 21983 & 31820 & 21650 & 33000 & 333 & -1180 \\\\\n",
       "\t11 & Oct. 8 & 40311 & 31399 & 22000 & 29000 & 18311 & 2399 \\\\\n",
       "\t12 & Oct. 9 & 28573 & 33797 & 20582 & 27000 & 7991 & 6797 \\\\\n",
       "\t13 & Oct. 10 & 28510 & 37252 & 14575 & 30500 & 13935 & 6752 \\\\\n",
       "\t14 & Oct. 11 & 27341 & 30320 & 21200 & 28000 & 6141 & 2320 \\\\\n",
       "\t15 & Oct. 12 & 29393 & 19290 & 30000 & 25000 & -607 & -5710 \\\\\n",
       "\t16 & Oct. 15 & 24379 & 32262 & 27000 & 35000 & -2621 & -2738 \\\\\n",
       "\t17 & Oct. 16 & 24289 & 20545 & 23491 & 31500 & 798 & -10955 \\\\\n",
       "\t18 & Oct. 17 & 32784 & 34727 & 32500 & 29000 & 284 & 5727 \\\\\n",
       "\t19 & Oct. 18 & 41995 & 22554 & 28450 & 17500 & 13545 & 5054 \\\\\n",
       "\t20 & Oct. 19 & 39939 & 21969 & 24000 & 27000 & 15939 & -5031 \\\\\n",
       "\t21 & Oct. 22 & 46829 & 23624 & 27000 & 24175 & 19829 & -551 \\\\\n",
       "\t22 & Oct. 23 & 24413 & 38948 & 19425 & 27528 & 4988 & 11420 \\\\\n",
       "\t23 & Oct. 24 & 36607 & 29310 & 32813 & 22000 & 3794 & 7310 \\\\\n",
       "\t24 & Oct. 25 & 43902 & 43453 & 27500 & 33001 & 16402 & 10452 \\\\\n",
       "\t$\\dots$ & $\\dots$ & $\\dots$ & $\\dots$ & $\\dots$ & $\\dots$ & $\\dots$ & $\\dots$ \\\\\n",
       "\\end{tabular}\n"
      ],
      "text/plain": [
       "\u001b[1m122×7 DataFrame\u001b[0m\n",
       "\u001b[1m Row \u001b[0m│\u001b[1m Column1 \u001b[0m\u001b[1m Showcase 1 \u001b[0m\u001b[1m Showcase 2 \u001b[0m\u001b[1m Bid 1   \u001b[0m\u001b[1m Bid 2   \u001b[0m\u001b[1m Difference 1 \u001b[0m\u001b[1m Differ\u001b[0m ⋯\n",
       "\u001b[1m     \u001b[0m│\u001b[90m String  \u001b[0m\u001b[90m String7    \u001b[0m\u001b[90m String7    \u001b[0m\u001b[90m String7 \u001b[0m\u001b[90m String7 \u001b[0m\u001b[90m String7      \u001b[0m\u001b[90m String\u001b[0m ⋯\n",
       "─────┼──────────────────────────────────────────────────────────────────────────\n",
       "   1 │ Sep. 24  40811       62485       22000    40500    18811         21985  ⋯\n",
       "   2 │ Sep. 25  31259       32972       10000    21000    21259         11972\n",
       "   3 │ Sep. 26  41943       24755       39500    22500    2443          2255\n",
       "   4 │ Sep. 27  24946       34665       21513    32000    3433          2665\n",
       "   5 │ Sep. 28  26257       48635       23420    35000    2837          13635  ⋯\n",
       "   6 │ Oct. 1   49928       42621       36500    34000    13428         8621\n",
       "   7 │ Oct. 2   30744       22253       26500    18000    4244          4253\n",
       "   8 │ Oct. 3   37671       24251       42000    26000    -4329         -1749\n",
       "  ⋮  │    ⋮         ⋮           ⋮          ⋮        ⋮          ⋮             ⋮ ⋱\n",
       " 116 │ Mar. 15  29528       23667       27000    25500    2528          -1833  ⋯\n",
       " 117 │ Mar. 18  22774       22812       27000    22500    -4226         312\n",
       " 118 │ Mar. 19  25375       31986       36000    32000    -10625        -14\n",
       " 119 │ Mar. 20  24949       30696       20500    31000    4449          -304\n",
       " 120 │ Mar. 25  23662       22329       26000    20000    -2338         2329   ⋯\n",
       " 121 │ Mar. 26  23704       34325       23800    34029    -96           296\n",
       " 122 │ Mar. 27  20898       23876       28000    25000    -7102         -1124\n",
       "\u001b[36m                                                   1 column and 107 rows omitted\u001b[0m"
      ]
     },
     "metadata": {},
     "output_type": "display_data"
    }
   ],
   "source": [
    "df2011 = DataFrame(CSV.File(\"../../ThinkBayes2/data/showcases.2011.csv\"));\n",
    "df2012 = DataFrame(CSV.File(\"../../ThinkBayes2/data/showcases.2012.csv\"));\n",
    "df2011 = dropmissing(df2011)\n",
    "df2012 = dropmissing(df2012)\n",
    "df2011 = permutedims(df2011, 1)\n",
    "df2012 = permutedims(df2012, 1)"
   ]
  },
  {
   "cell_type": "code",
   "execution_count": 61,
   "metadata": {},
   "outputs": [
    {
     "data": {
      "text/plain": [
       "stoi (generic function with 1 method)"
      ]
     },
     "metadata": {},
     "output_type": "display_data"
    }
   ],
   "source": [
    "function stoi(df)\n",
    "    for name in names(df)[2:end]\n",
    "        df[!, name] = [parse(Float64, x[1:end]) for x in df[!, name]];\n",
    "    end\n",
    "end"
   ]
  },
  {
   "cell_type": "code",
   "execution_count": 62,
   "metadata": {},
   "outputs": [],
   "source": [
    "stoi(df2011)"
   ]
  },
  {
   "cell_type": "code",
   "execution_count": 63,
   "metadata": {},
   "outputs": [],
   "source": [
    "stoi(df2012)"
   ]
  },
  {
   "cell_type": "code",
   "execution_count": 64,
   "metadata": {},
   "outputs": [
    {
     "data": {
      "text/html": [
       "<div class=\"data-frame\"><p>3 rows × 6 columns</p><table class=\"data-frame\"><thead><tr><th></th><th>Showcase 1</th><th>Showcase 2</th><th>Bid 1</th><th>Bid 2</th><th>Difference 1</th><th>Difference 2</th></tr><tr><th></th><th title=\"Float64\">Float64</th><th title=\"Float64\">Float64</th><th title=\"Float64\">Float64</th><th title=\"Float64\">Float64</th><th title=\"Float64\">Float64</th><th title=\"Float64\">Float64</th></tr></thead><tbody><tr><th>1</th><td>50969.0</td><td>45429.0</td><td>42000.0</td><td>34000.0</td><td>8969.0</td><td>11429.0</td></tr><tr><th>2</th><td>21901.0</td><td>34061.0</td><td>14000.0</td><td>59900.0</td><td>7901.0</td><td>-25839.0</td></tr><tr><th>3</th><td>32815.0</td><td>53186.0</td><td>32000.0</td><td>45000.0</td><td>815.0</td><td>8186.0</td></tr></tbody></table></div>"
      ],
      "text/latex": [
       "\\begin{tabular}{r|cccccc}\n",
       "\t& Showcase 1 & Showcase 2 & Bid 1 & Bid 2 & Difference 1 & Difference 2\\\\\n",
       "\t\\hline\n",
       "\t& Float64 & Float64 & Float64 & Float64 & Float64 & Float64\\\\\n",
       "\t\\hline\n",
       "\t1 & 50969.0 & 45429.0 & 42000.0 & 34000.0 & 8969.0 & 11429.0 \\\\\n",
       "\t2 & 21901.0 & 34061.0 & 14000.0 & 59900.0 & 7901.0 & -25839.0 \\\\\n",
       "\t3 & 32815.0 & 53186.0 & 32000.0 & 45000.0 & 815.0 & 8186.0 \\\\\n",
       "\\end{tabular}\n"
      ],
      "text/plain": [
       "\u001b[1m3×6 DataFrame\u001b[0m\n",
       "\u001b[1m Row \u001b[0m│\u001b[1m Showcase 1 \u001b[0m\u001b[1m Showcase 2 \u001b[0m\u001b[1m Bid 1   \u001b[0m\u001b[1m Bid 2   \u001b[0m\u001b[1m Difference 1 \u001b[0m\u001b[1m Difference 2 \u001b[0m\n",
       "\u001b[1m     \u001b[0m│\u001b[90m Float64    \u001b[0m\u001b[90m Float64    \u001b[0m\u001b[90m Float64 \u001b[0m\u001b[90m Float64 \u001b[0m\u001b[90m Float64      \u001b[0m\u001b[90m Float64      \u001b[0m\n",
       "─────┼──────────────────────────────────────────────────────────────────────\n",
       "   1 │    50969.0     45429.0  42000.0  34000.0        8969.0       11429.0\n",
       "   2 │    21901.0     34061.0  14000.0  59900.0        7901.0      -25839.0\n",
       "   3 │    32815.0     53186.0  32000.0  45000.0         815.0        8186.0"
      ]
     },
     "metadata": {},
     "output_type": "display_data"
    }
   ],
   "source": [
    "df = vcat(df2011, df2012)\n",
    "df = df[:, names(df)[2:end]]\n",
    "first(df, 3)"
   ]
  },
  {
   "cell_type": "code",
   "execution_count": null,
   "metadata": {},
   "outputs": [],
   "source": []
  }
 ],
 "metadata": {
  "kernelspec": {
   "display_name": "Julia 1.7.2",
   "language": "julia",
   "name": "julia-1.7"
  },
  "language_info": {
   "file_extension": ".jl",
   "mimetype": "application/julia",
   "name": "julia",
   "version": "1.7.2"
  },
  "orig_nbformat": 4
 },
 "nbformat": 4,
 "nbformat_minor": 2
}
