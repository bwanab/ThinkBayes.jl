{
 "cells": [
  {
   "cell_type": "code",
   "execution_count": 2,
   "id": "6a91f870-d3f1-4d0e-b9e9-f78e3369e34e",
   "metadata": {},
   "outputs": [],
   "source": [
    "using DataFrames\n",
    "using DataStructures\n",
    "using Plots\n",
    "using Distributions\n",
    "include(\"../../ThinkBayes.jl/src/ThinkBayes.jl\")\n",
    "using .ThinkBayes"
   ]
  },
  {
   "cell_type": "code",
   "execution_count": 3,
   "metadata": {},
   "outputs": [
    {
     "data": {
      "text/plain": [
       "odds (generic function with 1 method)"
      ]
     },
     "execution_count": 3,
     "metadata": {},
     "output_type": "execute_result"
    }
   ],
   "source": [
    "odds(p) = p / (1 - p)"
   ]
  },
  {
   "cell_type": "code",
   "execution_count": 4,
   "metadata": {},
   "outputs": [
    {
     "data": {
      "text/plain": [
       "3.0"
      ]
     },
     "execution_count": 4,
     "metadata": {},
     "output_type": "execute_result"
    }
   ],
   "source": [
    "odds(0.75)"
   ]
  },
  {
   "cell_type": "code",
   "execution_count": 5,
   "metadata": {},
   "outputs": [
    {
     "data": {
      "text/plain": [
       "0.11111111111111112"
      ]
     },
     "execution_count": 5,
     "metadata": {},
     "output_type": "execute_result"
    }
   ],
   "source": [
    "odds(0.1)"
   ]
  },
  {
   "cell_type": "code",
   "execution_count": 6,
   "metadata": {},
   "outputs": [
    {
     "data": {
      "text/plain": [
       "9.000000000000002"
      ]
     },
     "execution_count": 6,
     "metadata": {},
     "output_type": "execute_result"
    }
   ],
   "source": [
    "odds(0.9)"
   ]
  },
  {
   "cell_type": "code",
   "execution_count": 7,
   "metadata": {},
   "outputs": [
    {
     "data": {
      "text/plain": [
       "prob (generic function with 1 method)"
      ]
     },
     "execution_count": 7,
     "metadata": {},
     "output_type": "execute_result"
    }
   ],
   "source": [
    "prob(o) = o / (o+1)"
   ]
  },
  {
   "cell_type": "code",
   "execution_count": 8,
   "metadata": {},
   "outputs": [
    {
     "data": {
      "text/plain": [
       "0.6"
      ]
     },
     "execution_count": 8,
     "metadata": {},
     "output_type": "execute_result"
    }
   ],
   "source": [
    "prob(3/2)"
   ]
  },
  {
   "cell_type": "code",
   "execution_count": 9,
   "metadata": {},
   "outputs": [
    {
     "data": {
      "text/plain": [
       "prob2 (generic function with 1 method)"
      ]
     },
     "execution_count": 9,
     "metadata": {},
     "output_type": "execute_result"
    }
   ],
   "source": [
    "prob2(y, n) = y / (y + n)"
   ]
  },
  {
   "cell_type": "code",
   "execution_count": 10,
   "metadata": {},
   "outputs": [
    {
     "data": {
      "text/plain": [
       "0.6"
      ]
     },
     "execution_count": 10,
     "metadata": {},
     "output_type": "execute_result"
    }
   ],
   "source": [
    "prob2(3, 2)"
   ]
  },
  {
   "cell_type": "markdown",
   "metadata": {},
   "source": [
    "## Oliver's blood"
   ]
  },
  {
   "cell_type": "code",
   "execution_count": 11,
   "metadata": {},
   "outputs": [
    {
     "data": {
      "text/plain": [
       "0.8333333333333334"
      ]
     },
     "execution_count": 11,
     "metadata": {},
     "output_type": "execute_result"
    }
   ],
   "source": [
    "like1= 0.01\n",
    "like2=2 * 0.6 * 0.01\n",
    "likelihood_ratio=like1 / like2"
   ]
  },
  {
   "cell_type": "code",
   "execution_count": 12,
   "metadata": {},
   "outputs": [
    {
     "data": {
      "text/plain": [
       "0.45454545454545453"
      ]
     },
     "execution_count": 12,
     "metadata": {},
     "output_type": "execute_result"
    }
   ],
   "source": [
    "post_odds= 1 * like1 / like2\n",
    "prob(post_odds)"
   ]
  },
  {
   "cell_type": "code",
   "execution_count": 13,
   "metadata": {},
   "outputs": [
    {
     "data": {
      "text/plain": [
       "9.000000000000002"
      ]
     },
     "execution_count": 13,
     "metadata": {},
     "output_type": "execute_result"
    }
   ],
   "source": [
    "odds(.9)"
   ]
  },
  {
   "cell_type": "code",
   "execution_count": 14,
   "metadata": {},
   "outputs": [
    {
     "data": {
      "text/plain": [
       "0.8823529411764706"
      ]
     },
     "execution_count": 14,
     "metadata": {},
     "output_type": "execute_result"
    }
   ],
   "source": [
    "post_odds= odds(0.9) * like1 / like2\n",
    "prob(post_odds)"
   ]
  },
  {
   "cell_type": "code",
   "execution_count": 15,
   "metadata": {},
   "outputs": [
    {
     "data": {
      "text/plain": [
       "0.0847457627118644"
      ]
     },
     "execution_count": 15,
     "metadata": {},
     "output_type": "execute_result"
    }
   ],
   "source": [
    "post_odds = odds(0.1) * like1 / like2\n",
    "prob(post_odds)"
   ]
  },
  {
   "cell_type": "code",
   "execution_count": 19,
   "metadata": {},
   "outputs": [
    {
     "data": {
      "image/svg+xml": "<?xml version=\"1.0\" encoding=\"utf-8\"?>\n<svg xmlns=\"http://www.w3.org/2000/svg\" xmlns:xlink=\"http://www.w3.org/1999/xlink\" width=\"600\" height=\"400\" viewBox=\"0 0 2400 1600\">\n<defs>\n  <clipPath id=\"clip990\">\n    <rect x=\"0\" y=\"0\" width=\"2400\" height=\"1600\"/>\n  </clipPath>\n</defs>\n<path clip-path=\"url(#clip990)\" d=\"\nM0 1600 L2400 1600 L2400 0 L0 0  Z\n  \" fill=\"#ffffff\" fill-rule=\"evenodd\" fill-opacity=\"1\"/>\n<defs>\n  <clipPath id=\"clip991\">\n    <rect x=\"480\" y=\"0\" width=\"1681\" height=\"1600\"/>\n  </clipPath>\n</defs>\n<path clip-path=\"url(#clip990)\" d=\"\nM186.274 1486.45 L2352.76 1486.45 L2352.76 47.2441 L186.274 47.2441  Z\n  \" fill=\"#ffffff\" fill-rule=\"evenodd\" fill-opacity=\"1\"/>\n<defs>\n  <clipPath id=\"clip992\">\n    <rect x=\"186\" y=\"47\" width=\"2167\" height=\"1440\"/>\n  </clipPath>\n</defs>\n<polyline clip-path=\"url(#clip992)\" style=\"stroke:#000000; stroke-linecap:butt; stroke-linejoin:round; stroke-width:2; stroke-opacity:0.1; fill:none\" points=\"\n  438.411,1486.45 438.411,47.2441 \n  \"/>\n<polyline clip-path=\"url(#clip992)\" style=\"stroke:#000000; stroke-linecap:butt; stroke-linejoin:round; stroke-width:2; stroke-opacity:0.1; fill:none\" points=\"\n  770.853,1486.45 770.853,47.2441 \n  \"/>\n<polyline clip-path=\"url(#clip992)\" style=\"stroke:#000000; stroke-linecap:butt; stroke-linejoin:round; stroke-width:2; stroke-opacity:0.1; fill:none\" points=\"\n  1103.29,1486.45 1103.29,47.2441 \n  \"/>\n<polyline clip-path=\"url(#clip992)\" style=\"stroke:#000000; stroke-linecap:butt; stroke-linejoin:round; stroke-width:2; stroke-opacity:0.1; fill:none\" points=\"\n  1435.74,1486.45 1435.74,47.2441 \n  \"/>\n<polyline clip-path=\"url(#clip992)\" style=\"stroke:#000000; stroke-linecap:butt; stroke-linejoin:round; stroke-width:2; stroke-opacity:0.1; fill:none\" points=\"\n  1768.18,1486.45 1768.18,47.2441 \n  \"/>\n<polyline clip-path=\"url(#clip992)\" style=\"stroke:#000000; stroke-linecap:butt; stroke-linejoin:round; stroke-width:2; stroke-opacity:0.1; fill:none\" points=\"\n  2100.62,1486.45 2100.62,47.2441 \n  \"/>\n<polyline clip-path=\"url(#clip990)\" style=\"stroke:#000000; stroke-linecap:butt; stroke-linejoin:round; stroke-width:4; stroke-opacity:1; fill:none\" points=\"\n  186.274,1486.45 2352.76,1486.45 \n  \"/>\n<polyline clip-path=\"url(#clip990)\" style=\"stroke:#000000; stroke-linecap:butt; stroke-linejoin:round; stroke-width:4; stroke-opacity:1; fill:none\" points=\"\n  438.411,1486.45 438.411,1467.55 \n  \"/>\n<polyline clip-path=\"url(#clip990)\" style=\"stroke:#000000; stroke-linecap:butt; stroke-linejoin:round; stroke-width:4; stroke-opacity:1; fill:none\" points=\"\n  770.853,1486.45 770.853,1467.55 \n  \"/>\n<polyline clip-path=\"url(#clip990)\" style=\"stroke:#000000; stroke-linecap:butt; stroke-linejoin:round; stroke-width:4; stroke-opacity:1; fill:none\" points=\"\n  1103.29,1486.45 1103.29,1467.55 \n  \"/>\n<polyline clip-path=\"url(#clip990)\" style=\"stroke:#000000; stroke-linecap:butt; stroke-linejoin:round; stroke-width:4; stroke-opacity:1; fill:none\" points=\"\n  1435.74,1486.45 1435.74,1467.55 \n  \"/>\n<polyline clip-path=\"url(#clip990)\" style=\"stroke:#000000; stroke-linecap:butt; stroke-linejoin:round; stroke-width:4; stroke-opacity:1; fill:none\" points=\"\n  1768.18,1486.45 1768.18,1467.55 \n  \"/>\n<polyline clip-path=\"url(#clip990)\" style=\"stroke:#000000; stroke-linecap:butt; stroke-linejoin:round; stroke-width:4; stroke-opacity:1; fill:none\" points=\"\n  2100.62,1486.45 2100.62,1467.55 \n  \"/>\n<path clip-path=\"url(#clip990)\" d=\"M428.793 1544.91 L436.432 1544.91 L436.432 1518.55 L428.122 1520.21 L428.122 1515.95 L436.386 1514.29 L441.061 1514.29 L441.061 1544.91 L448.7 1544.91 L448.7 1548.85 L428.793 1548.85 L428.793 1544.91 Z\" fill=\"#000000\" fill-rule=\"evenodd\" fill-opacity=\"1\" /><path clip-path=\"url(#clip990)\" d=\"M765.505 1544.91 L781.825 1544.91 L781.825 1548.85 L759.88 1548.85 L759.88 1544.91 Q762.542 1542.16 767.126 1537.53 Q771.732 1532.88 772.913 1531.53 Q775.158 1529.01 776.038 1527.27 Q776.941 1525.51 776.941 1523.82 Q776.941 1521.07 774.996 1519.33 Q773.075 1517.6 769.973 1517.6 Q767.774 1517.6 765.32 1518.36 Q762.89 1519.13 760.112 1520.68 L760.112 1515.95 Q762.936 1514.82 765.39 1514.24 Q767.843 1513.66 769.88 1513.66 Q775.251 1513.66 778.445 1516.35 Q781.64 1519.03 781.64 1523.52 Q781.64 1525.65 780.829 1527.57 Q780.042 1529.47 777.936 1532.07 Q777.357 1532.74 774.255 1535.95 Q771.154 1539.15 765.505 1544.91 Z\" fill=\"#000000\" fill-rule=\"evenodd\" fill-opacity=\"1\" /><path clip-path=\"url(#clip990)\" d=\"M1107.54 1530.21 Q1110.9 1530.93 1112.77 1533.2 Q1114.67 1535.47 1114.67 1538.8 Q1114.67 1543.92 1111.15 1546.72 Q1107.63 1549.52 1101.15 1549.52 Q1098.98 1549.52 1096.66 1549.08 Q1094.37 1548.66 1091.92 1547.81 L1091.92 1543.29 Q1093.86 1544.43 1096.18 1545.01 Q1098.49 1545.58 1101.01 1545.58 Q1105.41 1545.58 1107.7 1543.85 Q1110.02 1542.11 1110.02 1538.8 Q1110.02 1535.75 1107.87 1534.03 Q1105.74 1532.3 1101.92 1532.3 L1097.89 1532.3 L1097.89 1528.45 L1102.1 1528.45 Q1105.55 1528.45 1107.38 1527.09 Q1109.21 1525.7 1109.21 1523.11 Q1109.21 1520.45 1107.31 1519.03 Q1105.44 1517.6 1101.92 1517.6 Q1100 1517.6 1097.8 1518.01 Q1095.6 1518.43 1092.96 1519.31 L1092.96 1515.14 Q1095.62 1514.4 1097.94 1514.03 Q1100.27 1513.66 1102.33 1513.66 Q1107.66 1513.66 1110.76 1516.09 Q1113.86 1518.5 1113.86 1522.62 Q1113.86 1525.49 1112.22 1527.48 Q1110.57 1529.45 1107.54 1530.21 Z\" fill=\"#000000\" fill-rule=\"evenodd\" fill-opacity=\"1\" /><path clip-path=\"url(#clip990)\" d=\"M1438.74 1518.36 L1426.94 1536.81 L1438.74 1536.81 L1438.74 1518.36 M1437.52 1514.29 L1443.4 1514.29 L1443.4 1536.81 L1448.33 1536.81 L1448.33 1540.7 L1443.4 1540.7 L1443.4 1548.85 L1438.74 1548.85 L1438.74 1540.7 L1423.14 1540.7 L1423.14 1536.19 L1437.52 1514.29 Z\" fill=\"#000000\" fill-rule=\"evenodd\" fill-opacity=\"1\" /><path clip-path=\"url(#clip990)\" d=\"M1758.46 1514.29 L1776.81 1514.29 L1776.81 1518.22 L1762.74 1518.22 L1762.74 1526.7 Q1763.76 1526.35 1764.77 1526.19 Q1765.79 1526 1766.81 1526 Q1772.6 1526 1775.98 1529.17 Q1779.36 1532.34 1779.36 1537.76 Q1779.36 1543.34 1775.89 1546.44 Q1772.41 1549.52 1766.09 1549.52 Q1763.92 1549.52 1761.65 1549.15 Q1759.4 1548.78 1757 1548.04 L1757 1543.34 Q1759.08 1544.47 1761.3 1545.03 Q1763.52 1545.58 1766 1545.58 Q1770.01 1545.58 1772.34 1543.48 Q1774.68 1541.37 1774.68 1537.76 Q1774.68 1534.15 1772.34 1532.04 Q1770.01 1529.94 1766 1529.94 Q1764.13 1529.94 1762.25 1530.35 Q1760.4 1530.77 1758.46 1531.65 L1758.46 1514.29 Z\" fill=\"#000000\" fill-rule=\"evenodd\" fill-opacity=\"1\" /><path clip-path=\"url(#clip990)\" d=\"M2101.02 1529.7 Q2097.88 1529.7 2096.02 1531.86 Q2094.2 1534.01 2094.2 1537.76 Q2094.2 1541.49 2096.02 1543.66 Q2097.88 1545.82 2101.02 1545.82 Q2104.17 1545.82 2106 1543.66 Q2107.85 1541.49 2107.85 1537.76 Q2107.85 1534.01 2106 1531.86 Q2104.17 1529.7 2101.02 1529.7 M2110.31 1515.05 L2110.31 1519.31 Q2108.55 1518.48 2106.74 1518.04 Q2104.96 1517.6 2103.2 1517.6 Q2098.57 1517.6 2096.12 1520.72 Q2093.69 1523.85 2093.34 1530.17 Q2094.7 1528.15 2096.76 1527.09 Q2098.82 1526 2101.3 1526 Q2106.51 1526 2109.52 1529.17 Q2112.55 1532.32 2112.55 1537.76 Q2112.55 1543.08 2109.4 1546.3 Q2106.26 1549.52 2101.02 1549.52 Q2095.03 1549.52 2091.86 1544.94 Q2088.69 1540.33 2088.69 1531.6 Q2088.69 1523.41 2092.57 1518.55 Q2096.46 1513.66 2103.01 1513.66 Q2104.77 1513.66 2106.56 1514.01 Q2108.36 1514.36 2110.31 1515.05 Z\" fill=\"#000000\" fill-rule=\"evenodd\" fill-opacity=\"1\" /><polyline clip-path=\"url(#clip992)\" style=\"stroke:#000000; stroke-linecap:butt; stroke-linejoin:round; stroke-width:2; stroke-opacity:0.1; fill:none\" points=\"\n  186.274,1445.72 2352.76,1445.72 \n  \"/>\n<polyline clip-path=\"url(#clip992)\" style=\"stroke:#000000; stroke-linecap:butt; stroke-linejoin:round; stroke-width:2; stroke-opacity:0.1; fill:none\" points=\"\n  186.274,1038.39 2352.76,1038.39 \n  \"/>\n<polyline clip-path=\"url(#clip992)\" style=\"stroke:#000000; stroke-linecap:butt; stroke-linejoin:round; stroke-width:2; stroke-opacity:0.1; fill:none\" points=\"\n  186.274,631.072 2352.76,631.072 \n  \"/>\n<polyline clip-path=\"url(#clip992)\" style=\"stroke:#000000; stroke-linecap:butt; stroke-linejoin:round; stroke-width:2; stroke-opacity:0.1; fill:none\" points=\"\n  186.274,223.75 2352.76,223.75 \n  \"/>\n<polyline clip-path=\"url(#clip990)\" style=\"stroke:#000000; stroke-linecap:butt; stroke-linejoin:round; stroke-width:4; stroke-opacity:1; fill:none\" points=\"\n  186.274,1486.45 186.274,47.2441 \n  \"/>\n<polyline clip-path=\"url(#clip990)\" style=\"stroke:#000000; stroke-linecap:butt; stroke-linejoin:round; stroke-width:4; stroke-opacity:1; fill:none\" points=\"\n  186.274,1445.72 205.172,1445.72 \n  \"/>\n<polyline clip-path=\"url(#clip990)\" style=\"stroke:#000000; stroke-linecap:butt; stroke-linejoin:round; stroke-width:4; stroke-opacity:1; fill:none\" points=\"\n  186.274,1038.39 205.172,1038.39 \n  \"/>\n<polyline clip-path=\"url(#clip990)\" style=\"stroke:#000000; stroke-linecap:butt; stroke-linejoin:round; stroke-width:4; stroke-opacity:1; fill:none\" points=\"\n  186.274,631.072 205.172,631.072 \n  \"/>\n<polyline clip-path=\"url(#clip990)\" style=\"stroke:#000000; stroke-linecap:butt; stroke-linejoin:round; stroke-width:4; stroke-opacity:1; fill:none\" points=\"\n  186.274,223.75 205.172,223.75 \n  \"/>\n<path clip-path=\"url(#clip990)\" d=\"M62.9365 1431.51 Q59.3254 1431.51 57.4967 1435.08 Q55.6912 1438.62 55.6912 1445.75 Q55.6912 1452.86 57.4967 1456.42 Q59.3254 1459.96 62.9365 1459.96 Q66.5707 1459.96 68.3763 1456.42 Q70.205 1452.86 70.205 1445.75 Q70.205 1438.62 68.3763 1435.08 Q66.5707 1431.51 62.9365 1431.51 M62.9365 1427.81 Q68.7467 1427.81 71.8022 1432.42 Q74.8809 1437 74.8809 1445.75 Q74.8809 1454.48 71.8022 1459.08 Q68.7467 1463.67 62.9365 1463.67 Q57.1264 1463.67 54.0477 1459.08 Q50.9921 1454.48 50.9921 1445.75 Q50.9921 1437 54.0477 1432.42 Q57.1264 1427.81 62.9365 1427.81 Z\" fill=\"#000000\" fill-rule=\"evenodd\" fill-opacity=\"1\" /><path clip-path=\"url(#clip990)\" d=\"M83.0984 1457.12 L87.9827 1457.12 L87.9827 1463 L83.0984 1463 L83.0984 1457.12 Z\" fill=\"#000000\" fill-rule=\"evenodd\" fill-opacity=\"1\" /><path clip-path=\"url(#clip990)\" d=\"M108.168 1431.51 Q104.557 1431.51 102.728 1435.08 Q100.922 1438.62 100.922 1445.75 Q100.922 1452.86 102.728 1456.42 Q104.557 1459.96 108.168 1459.96 Q111.802 1459.96 113.608 1456.42 Q115.436 1452.86 115.436 1445.75 Q115.436 1438.62 113.608 1435.08 Q111.802 1431.51 108.168 1431.51 M108.168 1427.81 Q113.978 1427.81 117.033 1432.42 Q120.112 1437 120.112 1445.75 Q120.112 1454.48 117.033 1459.08 Q113.978 1463.67 108.168 1463.67 Q102.358 1463.67 99.2789 1459.08 Q96.2234 1454.48 96.2234 1445.75 Q96.2234 1437 99.2789 1432.42 Q102.358 1427.81 108.168 1427.81 Z\" fill=\"#000000\" fill-rule=\"evenodd\" fill-opacity=\"1\" /><path clip-path=\"url(#clip990)\" d=\"M138.33 1431.51 Q134.719 1431.51 132.89 1435.08 Q131.084 1438.62 131.084 1445.75 Q131.084 1452.86 132.89 1456.42 Q134.719 1459.96 138.33 1459.96 Q141.964 1459.96 143.769 1456.42 Q145.598 1452.86 145.598 1445.75 Q145.598 1438.62 143.769 1435.08 Q141.964 1431.51 138.33 1431.51 M138.33 1427.81 Q144.14 1427.81 147.195 1432.42 Q150.274 1437 150.274 1445.75 Q150.274 1454.48 147.195 1459.08 Q144.14 1463.67 138.33 1463.67 Q132.519 1463.67 129.441 1459.08 Q126.385 1454.48 126.385 1445.75 Q126.385 1437 129.441 1432.42 Q132.519 1427.81 138.33 1427.81 Z\" fill=\"#000000\" fill-rule=\"evenodd\" fill-opacity=\"1\" /><path clip-path=\"url(#clip990)\" d=\"M63.9319 1024.19 Q60.3208 1024.19 58.4921 1027.76 Q56.6865 1031.3 56.6865 1038.43 Q56.6865 1045.54 58.4921 1049.1 Q60.3208 1052.64 63.9319 1052.64 Q67.5661 1052.64 69.3717 1049.1 Q71.2004 1045.54 71.2004 1038.43 Q71.2004 1031.3 69.3717 1027.76 Q67.5661 1024.19 63.9319 1024.19 M63.9319 1020.49 Q69.742 1020.49 72.7976 1025.1 Q75.8763 1029.68 75.8763 1038.43 Q75.8763 1047.16 72.7976 1051.76 Q69.742 1056.35 63.9319 1056.35 Q58.1217 1056.35 55.043 1051.76 Q51.9875 1047.16 51.9875 1038.43 Q51.9875 1029.68 55.043 1025.1 Q58.1217 1020.49 63.9319 1020.49 Z\" fill=\"#000000\" fill-rule=\"evenodd\" fill-opacity=\"1\" /><path clip-path=\"url(#clip990)\" d=\"M84.0938 1049.79 L88.978 1049.79 L88.978 1055.67 L84.0938 1055.67 L84.0938 1049.79 Z\" fill=\"#000000\" fill-rule=\"evenodd\" fill-opacity=\"1\" /><path clip-path=\"url(#clip990)\" d=\"M109.163 1024.19 Q105.552 1024.19 103.723 1027.76 Q101.918 1031.3 101.918 1038.43 Q101.918 1045.54 103.723 1049.1 Q105.552 1052.64 109.163 1052.64 Q112.797 1052.64 114.603 1049.1 Q116.432 1045.54 116.432 1038.43 Q116.432 1031.3 114.603 1027.76 Q112.797 1024.19 109.163 1024.19 M109.163 1020.49 Q114.973 1020.49 118.029 1025.1 Q121.107 1029.68 121.107 1038.43 Q121.107 1047.16 118.029 1051.76 Q114.973 1056.35 109.163 1056.35 Q103.353 1056.35 100.274 1051.76 Q97.2187 1047.16 97.2187 1038.43 Q97.2187 1029.68 100.274 1025.1 Q103.353 1020.49 109.163 1020.49 Z\" fill=\"#000000\" fill-rule=\"evenodd\" fill-opacity=\"1\" /><path clip-path=\"url(#clip990)\" d=\"M129.371 1021.11 L147.728 1021.11 L147.728 1025.05 L133.654 1025.05 L133.654 1033.52 Q134.672 1033.17 135.691 1033.01 Q136.709 1032.83 137.728 1032.83 Q143.515 1032.83 146.894 1036 Q150.274 1039.17 150.274 1044.59 Q150.274 1050.16 146.802 1053.27 Q143.33 1056.35 137.01 1056.35 Q134.834 1056.35 132.566 1055.97 Q130.32 1055.6 127.913 1054.86 L127.913 1050.16 Q129.996 1051.3 132.219 1051.85 Q134.441 1052.41 136.918 1052.41 Q140.922 1052.41 143.26 1050.3 Q145.598 1048.2 145.598 1044.59 Q145.598 1040.97 143.26 1038.87 Q140.922 1036.76 136.918 1036.76 Q135.043 1036.76 133.168 1037.18 Q131.316 1037.6 129.371 1038.47 L129.371 1021.11 Z\" fill=\"#000000\" fill-rule=\"evenodd\" fill-opacity=\"1\" /><path clip-path=\"url(#clip990)\" d=\"M62.9365 616.871 Q59.3254 616.871 57.4967 620.436 Q55.6912 623.977 55.6912 631.107 Q55.6912 638.213 57.4967 641.778 Q59.3254 645.32 62.9365 645.32 Q66.5707 645.32 68.3763 641.778 Q70.205 638.213 70.205 631.107 Q70.205 623.977 68.3763 620.436 Q66.5707 616.871 62.9365 616.871 M62.9365 613.167 Q68.7467 613.167 71.8022 617.774 Q74.8809 622.357 74.8809 631.107 Q74.8809 639.834 71.8022 644.44 Q68.7467 649.023 62.9365 649.023 Q57.1264 649.023 54.0477 644.44 Q50.9921 639.834 50.9921 631.107 Q50.9921 622.357 54.0477 617.774 Q57.1264 613.167 62.9365 613.167 Z\" fill=\"#000000\" fill-rule=\"evenodd\" fill-opacity=\"1\" /><path clip-path=\"url(#clip990)\" d=\"M83.0984 642.472 L87.9827 642.472 L87.9827 648.352 L83.0984 648.352 L83.0984 642.472 Z\" fill=\"#000000\" fill-rule=\"evenodd\" fill-opacity=\"1\" /><path clip-path=\"url(#clip990)\" d=\"M98.978 644.417 L106.617 644.417 L106.617 618.051 L98.3067 619.718 L98.3067 615.459 L106.571 613.792 L111.246 613.792 L111.246 644.417 L118.885 644.417 L118.885 648.352 L98.978 648.352 L98.978 644.417 Z\" fill=\"#000000\" fill-rule=\"evenodd\" fill-opacity=\"1\" /><path clip-path=\"url(#clip990)\" d=\"M138.33 616.871 Q134.719 616.871 132.89 620.436 Q131.084 623.977 131.084 631.107 Q131.084 638.213 132.89 641.778 Q134.719 645.32 138.33 645.32 Q141.964 645.32 143.769 641.778 Q145.598 638.213 145.598 631.107 Q145.598 623.977 143.769 620.436 Q141.964 616.871 138.33 616.871 M138.33 613.167 Q144.14 613.167 147.195 617.774 Q150.274 622.357 150.274 631.107 Q150.274 639.834 147.195 644.44 Q144.14 649.023 138.33 649.023 Q132.519 649.023 129.441 644.44 Q126.385 639.834 126.385 631.107 Q126.385 622.357 129.441 617.774 Q132.519 613.167 138.33 613.167 Z\" fill=\"#000000\" fill-rule=\"evenodd\" fill-opacity=\"1\" /><path clip-path=\"url(#clip990)\" d=\"M63.9319 209.549 Q60.3208 209.549 58.4921 213.114 Q56.6865 216.655 56.6865 223.785 Q56.6865 230.891 58.4921 234.456 Q60.3208 237.998 63.9319 237.998 Q67.5661 237.998 69.3717 234.456 Q71.2004 230.891 71.2004 223.785 Q71.2004 216.655 69.3717 213.114 Q67.5661 209.549 63.9319 209.549 M63.9319 205.845 Q69.742 205.845 72.7976 210.452 Q75.8763 215.035 75.8763 223.785 Q75.8763 232.512 72.7976 237.118 Q69.742 241.702 63.9319 241.702 Q58.1217 241.702 55.043 237.118 Q51.9875 232.512 51.9875 223.785 Q51.9875 215.035 55.043 210.452 Q58.1217 205.845 63.9319 205.845 Z\" fill=\"#000000\" fill-rule=\"evenodd\" fill-opacity=\"1\" /><path clip-path=\"url(#clip990)\" d=\"M84.0938 235.151 L88.978 235.151 L88.978 241.03 L84.0938 241.03 L84.0938 235.151 Z\" fill=\"#000000\" fill-rule=\"evenodd\" fill-opacity=\"1\" /><path clip-path=\"url(#clip990)\" d=\"M99.9733 237.095 L107.612 237.095 L107.612 210.729 L99.3021 212.396 L99.3021 208.137 L107.566 206.47 L112.242 206.47 L112.242 237.095 L119.881 237.095 L119.881 241.03 L99.9733 241.03 L99.9733 237.095 Z\" fill=\"#000000\" fill-rule=\"evenodd\" fill-opacity=\"1\" /><path clip-path=\"url(#clip990)\" d=\"M129.371 206.47 L147.728 206.47 L147.728 210.405 L133.654 210.405 L133.654 218.878 Q134.672 218.53 135.691 218.368 Q136.709 218.183 137.728 218.183 Q143.515 218.183 146.894 221.354 Q150.274 224.526 150.274 229.942 Q150.274 235.521 146.802 238.623 Q143.33 241.702 137.01 241.702 Q134.834 241.702 132.566 241.331 Q130.32 240.961 127.913 240.22 L127.913 235.521 Q129.996 236.655 132.219 237.211 Q134.441 237.766 136.918 237.766 Q140.922 237.766 143.26 235.66 Q145.598 233.553 145.598 229.942 Q145.598 226.331 143.26 224.225 Q140.922 222.118 136.918 222.118 Q135.043 222.118 133.168 222.535 Q131.316 222.952 129.371 223.831 L129.371 206.47 Z\" fill=\"#000000\" fill-rule=\"evenodd\" fill-opacity=\"1\" /><path clip-path=\"url(#clip992)\" d=\"\nM305.434 87.9763 L305.434 1445.72 L571.388 1445.72 L571.388 87.9763 L305.434 87.9763 L305.434 87.9763  Z\n  \" fill=\"#009af9\" fill-rule=\"evenodd\" fill-opacity=\"1\"/>\n<polyline clip-path=\"url(#clip992)\" style=\"stroke:#000000; stroke-linecap:butt; stroke-linejoin:round; stroke-width:4; stroke-opacity:1; fill:none\" points=\"\n  305.434,87.9763 305.434,1445.72 571.388,1445.72 571.388,87.9763 305.434,87.9763 \n  \"/>\n<path clip-path=\"url(#clip992)\" d=\"\nM637.876 87.9763 L637.876 1445.72 L903.829 1445.72 L903.829 87.9763 L637.876 87.9763 L637.876 87.9763  Z\n  \" fill=\"#009af9\" fill-rule=\"evenodd\" fill-opacity=\"1\"/>\n<polyline clip-path=\"url(#clip992)\" style=\"stroke:#000000; stroke-linecap:butt; stroke-linejoin:round; stroke-width:4; stroke-opacity:1; fill:none\" points=\"\n  637.876,87.9763 637.876,1445.72 903.829,1445.72 903.829,87.9763 637.876,87.9763 \n  \"/>\n<path clip-path=\"url(#clip992)\" d=\"\nM970.318 87.9763 L970.318 1445.72 L1236.27 1445.72 L1236.27 87.9763 L970.318 87.9763 L970.318 87.9763  Z\n  \" fill=\"#009af9\" fill-rule=\"evenodd\" fill-opacity=\"1\"/>\n<polyline clip-path=\"url(#clip992)\" style=\"stroke:#000000; stroke-linecap:butt; stroke-linejoin:round; stroke-width:4; stroke-opacity:1; fill:none\" points=\"\n  970.318,87.9763 970.318,1445.72 1236.27,1445.72 1236.27,87.9763 970.318,87.9763 \n  \"/>\n<path clip-path=\"url(#clip992)\" d=\"\nM1302.76 87.9763 L1302.76 1445.72 L1568.71 1445.72 L1568.71 87.9763 L1302.76 87.9763 L1302.76 87.9763  Z\n  \" fill=\"#009af9\" fill-rule=\"evenodd\" fill-opacity=\"1\"/>\n<polyline clip-path=\"url(#clip992)\" style=\"stroke:#000000; stroke-linecap:butt; stroke-linejoin:round; stroke-width:4; stroke-opacity:1; fill:none\" points=\"\n  1302.76,87.9763 1302.76,1445.72 1568.71,1445.72 1568.71,87.9763 1302.76,87.9763 \n  \"/>\n<path clip-path=\"url(#clip992)\" d=\"\nM1635.2 87.9763 L1635.2 1445.72 L1901.15 1445.72 L1901.15 87.9763 L1635.2 87.9763 L1635.2 87.9763  Z\n  \" fill=\"#009af9\" fill-rule=\"evenodd\" fill-opacity=\"1\"/>\n<polyline clip-path=\"url(#clip992)\" style=\"stroke:#000000; stroke-linecap:butt; stroke-linejoin:round; stroke-width:4; stroke-opacity:1; fill:none\" points=\"\n  1635.2,87.9763 1635.2,1445.72 1901.15,1445.72 1901.15,87.9763 1635.2,87.9763 \n  \"/>\n<path clip-path=\"url(#clip992)\" d=\"\nM1967.64 87.9763 L1967.64 1445.72 L2233.6 1445.72 L2233.6 87.9763 L1967.64 87.9763 L1967.64 87.9763  Z\n  \" fill=\"#009af9\" fill-rule=\"evenodd\" fill-opacity=\"1\"/>\n<polyline clip-path=\"url(#clip992)\" style=\"stroke:#000000; stroke-linecap:butt; stroke-linejoin:round; stroke-width:4; stroke-opacity:1; fill:none\" points=\"\n  1967.64,87.9763 1967.64,1445.72 2233.6,1445.72 2233.6,87.9763 1967.64,87.9763 \n  \"/>\n<circle clip-path=\"url(#clip992)\" style=\"fill:#009af9; stroke:none; fill-opacity:0\" cx=\"438.411\" cy=\"87.9763\" r=\"2\"/>\n<circle clip-path=\"url(#clip992)\" style=\"fill:#009af9; stroke:none; fill-opacity:0\" cx=\"770.853\" cy=\"87.9763\" r=\"2\"/>\n<circle clip-path=\"url(#clip992)\" style=\"fill:#009af9; stroke:none; fill-opacity:0\" cx=\"1103.29\" cy=\"87.9763\" r=\"2\"/>\n<circle clip-path=\"url(#clip992)\" style=\"fill:#009af9; stroke:none; fill-opacity:0\" cx=\"1435.74\" cy=\"87.9763\" r=\"2\"/>\n<circle clip-path=\"url(#clip992)\" style=\"fill:#009af9; stroke:none; fill-opacity:0\" cx=\"1768.18\" cy=\"87.9763\" r=\"2\"/>\n<circle clip-path=\"url(#clip992)\" style=\"fill:#009af9; stroke:none; fill-opacity:0\" cx=\"2100.62\" cy=\"87.9763\" r=\"2\"/>\n<path clip-path=\"url(#clip990)\" d=\"\nM1987.39 198.898 L2280.54 198.898 L2280.54 95.2176 L1987.39 95.2176  Z\n  \" fill=\"#ffffff\" fill-rule=\"evenodd\" fill-opacity=\"1\"/>\n<polyline clip-path=\"url(#clip990)\" style=\"stroke:#000000; stroke-linecap:butt; stroke-linejoin:round; stroke-width:4; stroke-opacity:1; fill:none\" points=\"\n  1987.39,198.898 2280.54,198.898 2280.54,95.2176 1987.39,95.2176 1987.39,198.898 \n  \"/>\n<path clip-path=\"url(#clip990)\" d=\"\nM2011.46 167.794 L2155.89 167.794 L2155.89 126.322 L2011.46 126.322 L2011.46 167.794  Z\n  \" fill=\"#009af9\" fill-rule=\"evenodd\" fill-opacity=\"1\"/>\n<polyline clip-path=\"url(#clip990)\" style=\"stroke:#000000; stroke-linecap:butt; stroke-linejoin:round; stroke-width:4; stroke-opacity:1; fill:none\" points=\"\n  2011.46,167.794 2155.89,167.794 2155.89,126.322 2011.46,126.322 2011.46,167.794 \n  \"/>\n<path clip-path=\"url(#clip990)\" d=\"M2193.81 166.745 Q2192 171.375 2190.29 172.787 Q2188.58 174.199 2185.71 174.199 L2182.3 174.199 L2182.3 170.634 L2184.8 170.634 Q2186.56 170.634 2187.53 169.8 Q2188.51 168.967 2189.69 165.865 L2190.45 163.921 L2179.97 138.412 L2184.48 138.412 L2192.58 158.689 L2200.68 138.412 L2205.2 138.412 L2193.81 166.745 Z\" fill=\"#000000\" fill-rule=\"evenodd\" fill-opacity=\"1\" /><path clip-path=\"url(#clip990)\" d=\"M2212.49 160.402 L2220.13 160.402 L2220.13 134.037 L2211.82 135.703 L2211.82 131.444 L2220.08 129.778 L2224.76 129.778 L2224.76 160.402 L2232.4 160.402 L2232.4 164.338 L2212.49 164.338 L2212.49 160.402 Z\" fill=\"#000000\" fill-rule=\"evenodd\" fill-opacity=\"1\" /></svg>\n"
     },
     "execution_count": 19,
     "metadata": {},
     "output_type": "execute_result"
    }
   ],
   "source": [
    "function make_die(sides)\n",
    "    outcomes=1:sides\n",
    "    pmf_from_seq(outcomes)\n",
    "end\n",
    "die = make_die(6)\n",
    "bar(die)"
   ]
  },
  {
   "cell_type": "code",
   "execution_count": null,
   "metadata": {},
   "outputs": [],
   "source": []
  }
 ],
 "metadata": {
  "kernelspec": {
   "display_name": "Julia 1.7.2",
   "language": "julia",
   "name": "julia-1.7"
  },
  "language_info": {
   "file_extension": ".jl",
   "mimetype": "application/julia",
   "name": "julia",
   "version": "1.7.2"
  },
  "orig_nbformat": 4
 },
 "nbformat": 4,
 "nbformat_minor": 2
}
