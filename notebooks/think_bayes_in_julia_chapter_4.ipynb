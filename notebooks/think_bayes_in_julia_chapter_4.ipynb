{
 "cells": [
  {
   "cell_type": "code",
   "execution_count": 1,
   "id": "2247b8fc-97b0-4e6c-9db5-ea4cafe2810c",
   "metadata": {},
   "outputs": [],
   "source": [
    "using DataFrames\n",
    "using DataStructures\n",
    "using Plots\n",
    "using Distributions\n",
    "include(\"../../ThinkBayes.jl/src/ThinkBayes.jl\")\n",
    "using .ThinkBayes"
   ]
  },
  {
   "cell_type": "code",
   "execution_count": 2,
   "id": "ca2c0d96-b33f-4305-8b42-5148536f7514",
   "metadata": {},
   "outputs": [
    {
     "data": {
      "text/plain": [
       "Binomial{Float64}(n=2, p=0.5)"
      ]
     },
     "execution_count": 2,
     "metadata": {},
     "output_type": "execute_result"
    }
   ],
   "source": [
    "n=2\n",
    "p=0.5\n",
    "binom=Binomial(n, p)"
   ]
  },
  {
   "cell_type": "code",
   "execution_count": 28,
   "id": "97f830d3-9445-48d5-b7ec-6d44985c6c83",
   "metadata": {},
   "outputs": [
    {
     "data": {
      "text/plain": [
       "3-element Vector{Int64}:\n",
       " 1\n",
       " 2\n",
       " 1"
      ]
     },
     "execution_count": 28,
     "metadata": {},
     "output_type": "execute_result"
    }
   ],
   "source": [
    "k_probs=[floor(Int, 0.001+4*Distributions.pdf(binom, x)) for x in 0:2]"
   ]
  },
  {
   "cell_type": "code",
   "execution_count": 29,
   "id": "ff6758fd-b830-4e1f-964c-4a85938f4624",
   "metadata": {},
   "outputs": [
    {
     "data": {
      "text/plain": []
     },
     "execution_count": 29,
     "metadata": {},
     "output_type": "execute_result"
    },
    {
     "name": "stdout",
     "output_type": "stream",
     "text": [
      "\u001b[1m3×2 DataFrame\u001b[0m\n",
      "\u001b[1m Row \u001b[0m│\u001b[1m a     \u001b[0m\u001b[1m b       \u001b[0m\n",
      "\u001b[1m     \u001b[0m│\u001b[90m Int64 \u001b[0m\u001b[90m Float64 \u001b[0m\n",
      "─────┼────────────────\n",
      "   1 │     0     0.25\n",
      "   2 │     1     0.5\n",
      "   3 │     2     0.25"
     ]
    }
   ],
   "source": [
    "pmf_k=pmf_from_seq(0:2, probs=k_probs)"
   ]
  },
  {
   "cell_type": "code",
   "execution_count": null,
   "id": "3fc30b85-513b-4147-879f-24634656405a",
   "metadata": {},
   "outputs": [],
   "source": []
  }
 ],
 "metadata": {
  "kernelspec": {
   "display_name": "Julia 1.7.2",
   "language": "julia",
   "name": "julia-1.7"
  },
  "language_info": {
   "file_extension": ".jl",
   "mimetype": "application/julia",
   "name": "julia",
   "version": "1.7.2"
  }
 },
 "nbformat": 4,
 "nbformat_minor": 5
}
