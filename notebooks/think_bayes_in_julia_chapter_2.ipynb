{
 "cells": [
  {
   "cell_type": "code",
   "execution_count": 1,
   "id": "864a4ff2-ecb0-4c02-947e-bc2701ec889c",
   "metadata": {},
   "outputs": [],
   "source": [
    "using DataFrames\n",
    "using Statistics\n",
    "using CSV\n",
    "using Plots"
   ]
  },
  {
   "cell_type": "code",
   "execution_count": 3,
   "id": "0790e2da-8ce3-407e-a946-a137f5a9a829",
   "metadata": {},
   "outputs": [
    {
     "data": {
      "text/html": [
       "<div class=\"data-frame\"><p>2 rows × 1 columns</p><table class=\"data-frame\"><thead><tr><th></th><th>Index</th></tr><tr><th></th><th title=\"String\">String</th></tr></thead><tbody><tr><th>1</th><td>Bowl 1</td></tr><tr><th>2</th><td>Bowl 2</td></tr></tbody></table></div>"
      ],
      "text/latex": [
       "\\begin{tabular}{r|c}\n",
       "\t& Index\\\\\n",
       "\t\\hline\n",
       "\t& String\\\\\n",
       "\t\\hline\n",
       "\t1 & Bowl 1 \\\\\n",
       "\t2 & Bowl 2 \\\\\n",
       "\\end{tabular}\n"
      ],
      "text/plain": [
       "\u001b[1m2×1 DataFrame\u001b[0m\n",
       "\u001b[1m Row \u001b[0m│\u001b[1m Index  \u001b[0m\n",
       "\u001b[1m     \u001b[0m│\u001b[90m String \u001b[0m\n",
       "─────┼────────\n",
       "   1 │ Bowl 1\n",
       "   2 │ Bowl 2"
      ]
     },
     "execution_count": 3,
     "metadata": {},
     "output_type": "execute_result"
    }
   ],
   "source": [
    "table=DataFrame(Index=[\"Bowl 1\", \"Bowl 2\"])"
   ]
  },
  {
   "cell_type": "code",
   "execution_count": 4,
   "id": "e7068457-7839-419e-be73-23a3d5f26a37",
   "metadata": {},
   "outputs": [
    {
     "data": {
      "text/plain": [
       "2-element Vector{Float64}:\n",
       " 0.5\n",
       " 0.5"
      ]
     },
     "execution_count": 4,
     "metadata": {},
     "output_type": "execute_result"
    }
   ],
   "source": [
    "table.prior=[0.5, 0.5]"
   ]
  },
  {
   "cell_type": "code",
   "execution_count": 5,
   "id": "aeb8bd60-007f-4205-a7f2-9b1ee80895a5",
   "metadata": {},
   "outputs": [
    {
     "data": {
      "text/html": [
       "<div class=\"data-frame\"><p>2 rows × 2 columns</p><table class=\"data-frame\"><thead><tr><th></th><th>Index</th><th>prior</th></tr><tr><th></th><th title=\"String\">String</th><th title=\"Float64\">Float64</th></tr></thead><tbody><tr><th>1</th><td>Bowl 1</td><td>0.5</td></tr><tr><th>2</th><td>Bowl 2</td><td>0.5</td></tr></tbody></table></div>"
      ],
      "text/latex": [
       "\\begin{tabular}{r|cc}\n",
       "\t& Index & prior\\\\\n",
       "\t\\hline\n",
       "\t& String & Float64\\\\\n",
       "\t\\hline\n",
       "\t1 & Bowl 1 & 0.5 \\\\\n",
       "\t2 & Bowl 2 & 0.5 \\\\\n",
       "\\end{tabular}\n"
      ],
      "text/plain": [
       "\u001b[1m2×2 DataFrame\u001b[0m\n",
       "\u001b[1m Row \u001b[0m│\u001b[1m Index  \u001b[0m\u001b[1m prior   \u001b[0m\n",
       "\u001b[1m     \u001b[0m│\u001b[90m String \u001b[0m\u001b[90m Float64 \u001b[0m\n",
       "─────┼─────────────────\n",
       "   1 │ Bowl 1      0.5\n",
       "   2 │ Bowl 2      0.5"
      ]
     },
     "execution_count": 5,
     "metadata": {},
     "output_type": "execute_result"
    }
   ],
   "source": [
    "table"
   ]
  },
  {
   "cell_type": "code",
   "execution_count": 6,
   "id": "1c279adb-c6c7-4bc8-9050-f14d8f1f26f0",
   "metadata": {},
   "outputs": [
    {
     "data": {
      "text/plain": [
       "2-element Vector{Float64}:\n",
       " 0.75\n",
       " 0.5"
      ]
     },
     "execution_count": 6,
     "metadata": {},
     "output_type": "execute_result"
    }
   ],
   "source": [
    "table.likelihood=[3/4, 1/2]"
   ]
  },
  {
   "cell_type": "code",
   "execution_count": 8,
   "id": "0b9eb529-c16b-458e-93af-5b8669472a59",
   "metadata": {},
   "outputs": [
    {
     "data": {
      "text/plain": [
       "2-element Vector{Float64}:\n",
       " 0.375\n",
       " 0.25"
      ]
     },
     "execution_count": 8,
     "metadata": {},
     "output_type": "execute_result"
    }
   ],
   "source": [
    "table.unnorm=table.prior.*table.likelihood"
   ]
  },
  {
   "cell_type": "code",
   "execution_count": 10,
   "id": "8b7d4b8b-4ad0-4899-8616-d56cd4c33813",
   "metadata": {},
   "outputs": [
    {
     "data": {
      "text/plain": [
       "0.625"
      ]
     },
     "execution_count": 10,
     "metadata": {},
     "output_type": "execute_result"
    }
   ],
   "source": [
    "prob_data=sum(table.unnorm)"
   ]
  },
  {
   "cell_type": "code",
   "execution_count": 12,
   "id": "ee37e701-e677-4f61-971e-a54326b58d3a",
   "metadata": {},
   "outputs": [
    {
     "data": {
      "text/html": [
       "<div class=\"data-frame\"><p>2 rows × 5 columns</p><table class=\"data-frame\"><thead><tr><th></th><th>Index</th><th>prior</th><th>likelihood</th><th>unnorm</th><th>posterior</th></tr><tr><th></th><th title=\"String\">String</th><th title=\"Float64\">Float64</th><th title=\"Float64\">Float64</th><th title=\"Float64\">Float64</th><th title=\"Float64\">Float64</th></tr></thead><tbody><tr><th>1</th><td>Bowl 1</td><td>0.5</td><td>0.75</td><td>0.375</td><td>0.6</td></tr><tr><th>2</th><td>Bowl 2</td><td>0.5</td><td>0.5</td><td>0.25</td><td>0.4</td></tr></tbody></table></div>"
      ],
      "text/latex": [
       "\\begin{tabular}{r|ccccc}\n",
       "\t& Index & prior & likelihood & unnorm & posterior\\\\\n",
       "\t\\hline\n",
       "\t& String & Float64 & Float64 & Float64 & Float64\\\\\n",
       "\t\\hline\n",
       "\t1 & Bowl 1 & 0.5 & 0.75 & 0.375 & 0.6 \\\\\n",
       "\t2 & Bowl 2 & 0.5 & 0.5 & 0.25 & 0.4 \\\\\n",
       "\\end{tabular}\n"
      ],
      "text/plain": [
       "\u001b[1m2×5 DataFrame\u001b[0m\n",
       "\u001b[1m Row \u001b[0m│\u001b[1m Index  \u001b[0m\u001b[1m prior   \u001b[0m\u001b[1m likelihood \u001b[0m\u001b[1m unnorm  \u001b[0m\u001b[1m posterior \u001b[0m\n",
       "\u001b[1m     \u001b[0m│\u001b[90m String \u001b[0m\u001b[90m Float64 \u001b[0m\u001b[90m Float64    \u001b[0m\u001b[90m Float64 \u001b[0m\u001b[90m Float64   \u001b[0m\n",
       "─────┼─────────────────────────────────────────────────\n",
       "   1 │ Bowl 1      0.5        0.75    0.375        0.6\n",
       "   2 │ Bowl 2      0.5        0.5     0.25         0.4"
      ]
     },
     "execution_count": 12,
     "metadata": {},
     "output_type": "execute_result"
    }
   ],
   "source": [
    "table.posterior=table.unnorm./prob_data\n",
    "table"
   ]
  },
  {
   "cell_type": "code",
   "execution_count": 13,
   "id": "3aa09ad3-d436-45eb-9e96-9281ca875f93",
   "metadata": {},
   "outputs": [
    {
     "data": {
      "text/html": [
       "<div class=\"data-frame\"><p>3 rows × 1 columns</p><table class=\"data-frame\"><thead><tr><th></th><th>Index</th></tr><tr><th></th><th title=\"Int64\">Int64</th></tr></thead><tbody><tr><th>1</th><td>6</td></tr><tr><th>2</th><td>8</td></tr><tr><th>3</th><td>12</td></tr></tbody></table></div>"
      ],
      "text/latex": [
       "\\begin{tabular}{r|c}\n",
       "\t& Index\\\\\n",
       "\t\\hline\n",
       "\t& Int64\\\\\n",
       "\t\\hline\n",
       "\t1 & 6 \\\\\n",
       "\t2 & 8 \\\\\n",
       "\t3 & 12 \\\\\n",
       "\\end{tabular}\n"
      ],
      "text/plain": [
       "\u001b[1m3×1 DataFrame\u001b[0m\n",
       "\u001b[1m Row \u001b[0m│\u001b[1m Index \u001b[0m\n",
       "\u001b[1m     \u001b[0m│\u001b[90m Int64 \u001b[0m\n",
       "─────┼───────\n",
       "   1 │     6\n",
       "   2 │     8\n",
       "   3 │    12"
      ]
     },
     "execution_count": 13,
     "metadata": {},
     "output_type": "execute_result"
    }
   ],
   "source": [
    "table2=DataFrame(Index=[6, 8, 12])"
   ]
  },
  {
   "cell_type": "code",
   "execution_count": 15,
   "id": "1c1da10b-4a5a-4b77-9ece-7fe395db36e4",
   "metadata": {},
   "outputs": [
    {
     "data": {
      "text/plain": [
       "3-element Vector{Float64}:\n",
       " 0.3333333333333333\n",
       " 0.3333333333333333\n",
       " 0.3333333333333333"
      ]
     },
     "execution_count": 15,
     "metadata": {},
     "output_type": "execute_result"
    }
   ],
   "source": [
    "table2.prior=[1/3, 1/3, 1/3]"
   ]
  },
  {
   "cell_type": "code",
   "execution_count": 16,
   "id": "39cf2f86-76c2-4ac8-91d7-73a4b9306302",
   "metadata": {},
   "outputs": [
    {
     "data": {
      "text/plain": [
       "3-element Vector{Float64}:\n",
       " 0.16666666666666666\n",
       " 0.125\n",
       " 0.08333333333333333"
      ]
     },
     "execution_count": 16,
     "metadata": {},
     "output_type": "execute_result"
    }
   ],
   "source": [
    "table2.likelihood=[1/6, 1/8, 1/12]"
   ]
  },
  {
   "cell_type": "code",
   "execution_count": 18,
   "id": "8b75c816-9cda-4ba1-ad27-15f0e3c2cb11",
   "metadata": {},
   "outputs": [
    {
     "data": {
      "text/plain": [
       "3-element Vector{Float64}:\n",
       " 0.05555555555555555\n",
       " 0.041666666666666664\n",
       " 0.027777777777777776"
      ]
     },
     "execution_count": 18,
     "metadata": {},
     "output_type": "execute_result"
    }
   ],
   "source": [
    "table2.unnorm=table2.prior.*table2.likelihood"
   ]
  },
  {
   "cell_type": "code",
   "execution_count": 20,
   "id": "4f6b8eaf-d011-486b-9229-7eba38ada872",
   "metadata": {},
   "outputs": [
    {
     "data": {
      "text/plain": [
       "0.12499999999999999"
      ]
     },
     "execution_count": 20,
     "metadata": {},
     "output_type": "execute_result"
    }
   ],
   "source": [
    "prob_data2=sum(table2.unnorm)"
   ]
  },
  {
   "cell_type": "code",
   "execution_count": 21,
   "id": "fbc8c847-b7f2-47f3-8a42-ac379883bc80",
   "metadata": {},
   "outputs": [
    {
     "data": {
      "text/html": [
       "<div class=\"data-frame\"><p>3 rows × 5 columns</p><table class=\"data-frame\"><thead><tr><th></th><th>Index</th><th>prior</th><th>likelihood</th><th>unnorm</th><th>posterior</th></tr><tr><th></th><th title=\"Int64\">Int64</th><th title=\"Float64\">Float64</th><th title=\"Float64\">Float64</th><th title=\"Float64\">Float64</th><th title=\"Float64\">Float64</th></tr></thead><tbody><tr><th>1</th><td>6</td><td>0.333333</td><td>0.166667</td><td>0.0555556</td><td>0.444444</td></tr><tr><th>2</th><td>8</td><td>0.333333</td><td>0.125</td><td>0.0416667</td><td>0.333333</td></tr><tr><th>3</th><td>12</td><td>0.333333</td><td>0.0833333</td><td>0.0277778</td><td>0.222222</td></tr></tbody></table></div>"
      ],
      "text/latex": [
       "\\begin{tabular}{r|ccccc}\n",
       "\t& Index & prior & likelihood & unnorm & posterior\\\\\n",
       "\t\\hline\n",
       "\t& Int64 & Float64 & Float64 & Float64 & Float64\\\\\n",
       "\t\\hline\n",
       "\t1 & 6 & 0.333333 & 0.166667 & 0.0555556 & 0.444444 \\\\\n",
       "\t2 & 8 & 0.333333 & 0.125 & 0.0416667 & 0.333333 \\\\\n",
       "\t3 & 12 & 0.333333 & 0.0833333 & 0.0277778 & 0.222222 \\\\\n",
       "\\end{tabular}\n"
      ],
      "text/plain": [
       "\u001b[1m3×5 DataFrame\u001b[0m\n",
       "\u001b[1m Row \u001b[0m│\u001b[1m Index \u001b[0m\u001b[1m prior    \u001b[0m\u001b[1m likelihood \u001b[0m\u001b[1m unnorm    \u001b[0m\u001b[1m posterior \u001b[0m\n",
       "\u001b[1m     \u001b[0m│\u001b[90m Int64 \u001b[0m\u001b[90m Float64  \u001b[0m\u001b[90m Float64    \u001b[0m\u001b[90m Float64   \u001b[0m\u001b[90m Float64   \u001b[0m\n",
       "─────┼───────────────────────────────────────────────────\n",
       "   1 │     6  0.333333   0.166667   0.0555556   0.444444\n",
       "   2 │     8  0.333333   0.125      0.0416667   0.333333\n",
       "   3 │    12  0.333333   0.0833333  0.0277778   0.222222"
      ]
     },
     "execution_count": 21,
     "metadata": {},
     "output_type": "execute_result"
    }
   ],
   "source": [
    "table2.posterior=table2.unnorm./prob_data2\n",
    "table2"
   ]
  },
  {
   "cell_type": "code",
   "execution_count": 22,
   "id": "287627cf-7cd4-4f30-84db-6abcdb02be67",
   "metadata": {},
   "outputs": [
    {
     "data": {
      "text/plain": [
       "0.4444444444444444"
      ]
     },
     "execution_count": 22,
     "metadata": {},
     "output_type": "execute_result"
    }
   ],
   "source": [
    "4/9"
   ]
  },
  {
   "cell_type": "code",
   "execution_count": 23,
   "id": "6420c9eb-7a8c-4241-b276-24a6bbe1da68",
   "metadata": {},
   "outputs": [
    {
     "data": {
      "text/plain": [
       "update (generic function with 1 method)"
      ]
     },
     "execution_count": 23,
     "metadata": {},
     "output_type": "execute_result"
    }
   ],
   "source": [
    "function update(table)\n",
    "    table.unnorm=table.prior.*table.likelihood\n",
    "    prob_data=sum(table.unnorm)\n",
    "    table.posterior=table.unnorm./prob_data\n",
    "    table\n",
    "end"
   ]
  },
  {
   "cell_type": "code",
   "execution_count": 24,
   "id": "e9737df3-7bd5-40a2-ade1-c036c6a8cf80",
   "metadata": {},
   "outputs": [
    {
     "data": {
      "text/html": [
       "<div class=\"data-frame\"><p>3 rows × 5 columns</p><table class=\"data-frame\"><thead><tr><th></th><th>Index</th><th>prior</th><th>likelihood</th><th>unnorm</th><th>posterior</th></tr><tr><th></th><th title=\"Int64\">Int64</th><th title=\"Float64\">Float64</th><th title=\"Float64\">Float64</th><th title=\"Float64\">Float64</th><th title=\"Float64\">Float64</th></tr></thead><tbody><tr><th>1</th><td>6</td><td>0.333333</td><td>0.166667</td><td>0.0555556</td><td>0.444444</td></tr><tr><th>2</th><td>8</td><td>0.333333</td><td>0.125</td><td>0.0416667</td><td>0.333333</td></tr><tr><th>3</th><td>12</td><td>0.333333</td><td>0.0833333</td><td>0.0277778</td><td>0.222222</td></tr></tbody></table></div>"
      ],
      "text/latex": [
       "\\begin{tabular}{r|ccccc}\n",
       "\t& Index & prior & likelihood & unnorm & posterior\\\\\n",
       "\t\\hline\n",
       "\t& Int64 & Float64 & Float64 & Float64 & Float64\\\\\n",
       "\t\\hline\n",
       "\t1 & 6 & 0.333333 & 0.166667 & 0.0555556 & 0.444444 \\\\\n",
       "\t2 & 8 & 0.333333 & 0.125 & 0.0416667 & 0.333333 \\\\\n",
       "\t3 & 12 & 0.333333 & 0.0833333 & 0.0277778 & 0.222222 \\\\\n",
       "\\end{tabular}\n"
      ],
      "text/plain": [
       "\u001b[1m3×5 DataFrame\u001b[0m\n",
       "\u001b[1m Row \u001b[0m│\u001b[1m Index \u001b[0m\u001b[1m prior    \u001b[0m\u001b[1m likelihood \u001b[0m\u001b[1m unnorm    \u001b[0m\u001b[1m posterior \u001b[0m\n",
       "\u001b[1m     \u001b[0m│\u001b[90m Int64 \u001b[0m\u001b[90m Float64  \u001b[0m\u001b[90m Float64    \u001b[0m\u001b[90m Float64   \u001b[0m\u001b[90m Float64   \u001b[0m\n",
       "─────┼───────────────────────────────────────────────────\n",
       "   1 │     6  0.333333   0.166667   0.0555556   0.444444\n",
       "   2 │     8  0.333333   0.125      0.0416667   0.333333\n",
       "   3 │    12  0.333333   0.0833333  0.0277778   0.222222"
      ]
     },
     "execution_count": 24,
     "metadata": {},
     "output_type": "execute_result"
    }
   ],
   "source": [
    "update(table2)"
   ]
  },
  {
   "cell_type": "code",
   "execution_count": 29,
   "id": "b45414f4-4436-4051-b413-091ecd783667",
   "metadata": {},
   "outputs": [
    {
     "data": {
      "text/html": [
       "<div class=\"data-frame\"><p>3 rows × 1 columns</p><table class=\"data-frame\"><thead><tr><th></th><th>Index</th></tr><tr><th></th><th title=\"String\">String</th></tr></thead><tbody><tr><th>1</th><td>Door 1</td></tr><tr><th>2</th><td>Door 2</td></tr><tr><th>3</th><td>Door 3</td></tr></tbody></table></div>"
      ],
      "text/latex": [
       "\\begin{tabular}{r|c}\n",
       "\t& Index\\\\\n",
       "\t\\hline\n",
       "\t& String\\\\\n",
       "\t\\hline\n",
       "\t1 & Door 1 \\\\\n",
       "\t2 & Door 2 \\\\\n",
       "\t3 & Door 3 \\\\\n",
       "\\end{tabular}\n"
      ],
      "text/plain": [
       "\u001b[1m3×1 DataFrame\u001b[0m\n",
       "\u001b[1m Row \u001b[0m│\u001b[1m Index  \u001b[0m\n",
       "\u001b[1m     \u001b[0m│\u001b[90m String \u001b[0m\n",
       "─────┼────────\n",
       "   1 │ Door 1\n",
       "   2 │ Door 2\n",
       "   3 │ Door 3"
      ]
     },
     "execution_count": 29,
     "metadata": {},
     "output_type": "execute_result"
    }
   ],
   "source": [
    "table3=DataFrame(Index=[\"Door 1\", \"Door 2\", \"Door 3\"])"
   ]
  },
  {
   "cell_type": "code",
   "execution_count": 30,
   "id": "9b1e2e94-17fa-4732-8f37-df242d0d7822",
   "metadata": {},
   "outputs": [
    {
     "data": {
      "text/plain": [
       "3-element Vector{Float64}:\n",
       " 0.3333333333333333\n",
       " 0.3333333333333333\n",
       " 0.3333333333333333"
      ]
     },
     "execution_count": 30,
     "metadata": {},
     "output_type": "execute_result"
    }
   ],
   "source": [
    "table3.prior=[1/3, 1/3, 1/3]"
   ]
  },
  {
   "cell_type": "code",
   "execution_count": 33,
   "id": "05257770-25d7-4155-9fd0-d7ef5abac2eb",
   "metadata": {},
   "outputs": [
    {
     "data": {
      "text/plain": [
       "3-element Vector{Float64}:\n",
       " 0.5\n",
       " 1.0\n",
       " 0.0"
      ]
     },
     "execution_count": 33,
     "metadata": {},
     "output_type": "execute_result"
    }
   ],
   "source": [
    "table3.likelihood=[1/2, 1, 0]"
   ]
  },
  {
   "cell_type": "code",
   "execution_count": 34,
   "id": "0c01a40a-15c0-48c8-bdc9-eed0dedc4657",
   "metadata": {},
   "outputs": [
    {
     "data": {
      "text/html": [
       "<div class=\"data-frame\"><p>3 rows × 5 columns</p><table class=\"data-frame\"><thead><tr><th></th><th>Index</th><th>prior</th><th>likelihood</th><th>unnorm</th><th>posterior</th></tr><tr><th></th><th title=\"String\">String</th><th title=\"Float64\">Float64</th><th title=\"Float64\">Float64</th><th title=\"Float64\">Float64</th><th title=\"Float64\">Float64</th></tr></thead><tbody><tr><th>1</th><td>Door 1</td><td>0.333333</td><td>0.5</td><td>0.166667</td><td>0.333333</td></tr><tr><th>2</th><td>Door 2</td><td>0.333333</td><td>1.0</td><td>0.333333</td><td>0.666667</td></tr><tr><th>3</th><td>Door 3</td><td>0.333333</td><td>0.0</td><td>0.0</td><td>0.0</td></tr></tbody></table></div>"
      ],
      "text/latex": [
       "\\begin{tabular}{r|ccccc}\n",
       "\t& Index & prior & likelihood & unnorm & posterior\\\\\n",
       "\t\\hline\n",
       "\t& String & Float64 & Float64 & Float64 & Float64\\\\\n",
       "\t\\hline\n",
       "\t1 & Door 1 & 0.333333 & 0.5 & 0.166667 & 0.333333 \\\\\n",
       "\t2 & Door 2 & 0.333333 & 1.0 & 0.333333 & 0.666667 \\\\\n",
       "\t3 & Door 3 & 0.333333 & 0.0 & 0.0 & 0.0 \\\\\n",
       "\\end{tabular}\n"
      ],
      "text/plain": [
       "\u001b[1m3×5 DataFrame\u001b[0m\n",
       "\u001b[1m Row \u001b[0m│\u001b[1m Index  \u001b[0m\u001b[1m prior    \u001b[0m\u001b[1m likelihood \u001b[0m\u001b[1m unnorm   \u001b[0m\u001b[1m posterior \u001b[0m\n",
       "\u001b[1m     \u001b[0m│\u001b[90m String \u001b[0m\u001b[90m Float64  \u001b[0m\u001b[90m Float64    \u001b[0m\u001b[90m Float64  \u001b[0m\u001b[90m Float64   \u001b[0m\n",
       "─────┼───────────────────────────────────────────────────\n",
       "   1 │ Door 1  0.333333         0.5  0.166667   0.333333\n",
       "   2 │ Door 2  0.333333         1.0  0.333333   0.666667\n",
       "   3 │ Door 3  0.333333         0.0  0.0        0.0"
      ]
     },
     "execution_count": 34,
     "metadata": {},
     "output_type": "execute_result"
    }
   ],
   "source": [
    "update(table3)"
   ]
  },
  {
   "cell_type": "code",
   "execution_count": 35,
   "id": "e1fa4a3f-fc57-4666-bbda-9297f8975565",
   "metadata": {},
   "outputs": [
    {
     "data": {
      "text/html": [
       "<div class=\"data-frame\"><p>2 rows × 1 columns</p><table class=\"data-frame\"><thead><tr><th></th><th>Index</th></tr><tr><th></th><th title=\"String\">String</th></tr></thead><tbody><tr><th>1</th><td>normal coin</td></tr><tr><th>2</th><td>trick coin</td></tr></tbody></table></div>"
      ],
      "text/latex": [
       "\\begin{tabular}{r|c}\n",
       "\t& Index\\\\\n",
       "\t\\hline\n",
       "\t& String\\\\\n",
       "\t\\hline\n",
       "\t1 & normal coin \\\\\n",
       "\t2 & trick coin \\\\\n",
       "\\end{tabular}\n"
      ],
      "text/plain": [
       "\u001b[1m2×1 DataFrame\u001b[0m\n",
       "\u001b[1m Row \u001b[0m│\u001b[1m Index       \u001b[0m\n",
       "\u001b[1m     \u001b[0m│\u001b[90m String      \u001b[0m\n",
       "─────┼─────────────\n",
       "   1 │ normal coin\n",
       "   2 │ trick coin"
      ]
     },
     "execution_count": 35,
     "metadata": {},
     "output_type": "execute_result"
    }
   ],
   "source": [
    "coin=DataFrame(Index=[\"normal coin\", \"trick coin\"])"
   ]
  },
  {
   "cell_type": "code",
   "execution_count": 36,
   "id": "cc13afa0-0e97-4ff6-94a8-0b5326630a9f",
   "metadata": {},
   "outputs": [
    {
     "data": {
      "text/plain": [
       "2-element Vector{Float64}:\n",
       " 0.5\n",
       " 0.5"
      ]
     },
     "execution_count": 36,
     "metadata": {},
     "output_type": "execute_result"
    }
   ],
   "source": [
    "coin.prior=[1/2, 1/2]"
   ]
  },
  {
   "cell_type": "code",
   "execution_count": 37,
   "id": "a3bc6c14-c09f-46e7-8351-a35d3c274a6a",
   "metadata": {},
   "outputs": [
    {
     "data": {
      "text/plain": [
       "2-element Vector{Float64}:\n",
       " 0.5\n",
       " 1.0"
      ]
     },
     "execution_count": 37,
     "metadata": {},
     "output_type": "execute_result"
    }
   ],
   "source": [
    "coin.likelihood=[1/2, 1]"
   ]
  },
  {
   "cell_type": "code",
   "execution_count": 38,
   "id": "166c0f08-48ca-46df-8181-c990614d1a36",
   "metadata": {},
   "outputs": [
    {
     "data": {
      "text/html": [
       "<div class=\"data-frame\"><p>2 rows × 5 columns</p><table class=\"data-frame\"><thead><tr><th></th><th>Index</th><th>prior</th><th>likelihood</th><th>unnorm</th><th>posterior</th></tr><tr><th></th><th title=\"String\">String</th><th title=\"Float64\">Float64</th><th title=\"Float64\">Float64</th><th title=\"Float64\">Float64</th><th title=\"Float64\">Float64</th></tr></thead><tbody><tr><th>1</th><td>normal coin</td><td>0.5</td><td>0.5</td><td>0.25</td><td>0.333333</td></tr><tr><th>2</th><td>trick coin</td><td>0.5</td><td>1.0</td><td>0.5</td><td>0.666667</td></tr></tbody></table></div>"
      ],
      "text/latex": [
       "\\begin{tabular}{r|ccccc}\n",
       "\t& Index & prior & likelihood & unnorm & posterior\\\\\n",
       "\t\\hline\n",
       "\t& String & Float64 & Float64 & Float64 & Float64\\\\\n",
       "\t\\hline\n",
       "\t1 & normal coin & 0.5 & 0.5 & 0.25 & 0.333333 \\\\\n",
       "\t2 & trick coin & 0.5 & 1.0 & 0.5 & 0.666667 \\\\\n",
       "\\end{tabular}\n"
      ],
      "text/plain": [
       "\u001b[1m2×5 DataFrame\u001b[0m\n",
       "\u001b[1m Row \u001b[0m│\u001b[1m Index       \u001b[0m\u001b[1m prior   \u001b[0m\u001b[1m likelihood \u001b[0m\u001b[1m unnorm  \u001b[0m\u001b[1m posterior \u001b[0m\n",
       "\u001b[1m     \u001b[0m│\u001b[90m String      \u001b[0m\u001b[90m Float64 \u001b[0m\u001b[90m Float64    \u001b[0m\u001b[90m Float64 \u001b[0m\u001b[90m Float64   \u001b[0m\n",
       "─────┼──────────────────────────────────────────────────────\n",
       "   1 │ normal coin      0.5         0.5     0.25   0.333333\n",
       "   2 │ trick coin       0.5         1.0     0.5    0.666667"
      ]
     },
     "execution_count": 38,
     "metadata": {},
     "output_type": "execute_result"
    }
   ],
   "source": [
    "update(coin)"
   ]
  },
  {
   "cell_type": "code",
   "execution_count": 39,
   "id": "d4af1b85-f3fd-4717-9eb1-5b796754da78",
   "metadata": {},
   "outputs": [
    {
     "data": {
      "text/html": [
       "<div class=\"data-frame\"><p>4 rows × 5 columns</p><table class=\"data-frame\"><thead><tr><th></th><th>Index</th><th>prior</th><th>likelihood</th><th>unnorm</th><th>posterior</th></tr><tr><th></th><th title=\"String\">String</th><th title=\"Float64\">Float64</th><th title=\"Float64\">Float64</th><th title=\"Float64\">Float64</th><th title=\"Float64\">Float64</th></tr></thead><tbody><tr><th>1</th><td>Both boys</td><td>0.25</td><td>0.0</td><td>0.0</td><td>0.0</td></tr><tr><th>2</th><td>Boy/Girl</td><td>0.25</td><td>0.333333</td><td>0.0833333</td><td>0.333333</td></tr><tr><th>3</th><td>Girl/Boy</td><td>0.25</td><td>0.333333</td><td>0.0833333</td><td>0.333333</td></tr><tr><th>4</th><td>Both Girls</td><td>0.25</td><td>0.333333</td><td>0.0833333</td><td>0.333333</td></tr></tbody></table></div>"
      ],
      "text/latex": [
       "\\begin{tabular}{r|ccccc}\n",
       "\t& Index & prior & likelihood & unnorm & posterior\\\\\n",
       "\t\\hline\n",
       "\t& String & Float64 & Float64 & Float64 & Float64\\\\\n",
       "\t\\hline\n",
       "\t1 & Both boys & 0.25 & 0.0 & 0.0 & 0.0 \\\\\n",
       "\t2 & Boy/Girl & 0.25 & 0.333333 & 0.0833333 & 0.333333 \\\\\n",
       "\t3 & Girl/Boy & 0.25 & 0.333333 & 0.0833333 & 0.333333 \\\\\n",
       "\t4 & Both Girls & 0.25 & 0.333333 & 0.0833333 & 0.333333 \\\\\n",
       "\\end{tabular}\n"
      ],
      "text/plain": [
       "\u001b[1m4×5 DataFrame\u001b[0m\n",
       "\u001b[1m Row \u001b[0m│\u001b[1m Index      \u001b[0m\u001b[1m prior   \u001b[0m\u001b[1m likelihood \u001b[0m\u001b[1m unnorm    \u001b[0m\u001b[1m posterior \u001b[0m\n",
       "\u001b[1m     \u001b[0m│\u001b[90m String     \u001b[0m\u001b[90m Float64 \u001b[0m\u001b[90m Float64    \u001b[0m\u001b[90m Float64   \u001b[0m\u001b[90m Float64   \u001b[0m\n",
       "─────┼───────────────────────────────────────────────────────\n",
       "   1 │ Both boys      0.25    0.0       0.0         0.0\n",
       "   2 │ Boy/Girl       0.25    0.333333  0.0833333   0.333333\n",
       "   3 │ Girl/Boy       0.25    0.333333  0.0833333   0.333333\n",
       "   4 │ Both Girls     0.25    0.333333  0.0833333   0.333333"
      ]
     },
     "execution_count": 39,
     "metadata": {},
     "output_type": "execute_result"
    }
   ],
   "source": [
    "children=DataFrame(Index=[\"Both boys\", \"Boy/Girl\", \"Girl/Boy\", \"Both Girls\"])\n",
    "children.prior=[1/4, 1/4, 1/4, 1/4]\n",
    "children.likelihood=[0, 1/3, 1/3, 1/3]\n",
    "update(children)"
   ]
  },
  {
   "cell_type": "code",
   "execution_count": 41,
   "id": "9c906058-b80a-43b7-86be-2d7a101dd579",
   "metadata": {},
   "outputs": [
    {
     "data": {
      "text/html": [
       "<div class=\"data-frame\"><p>3 rows × 5 columns</p><table class=\"data-frame\"><thead><tr><th></th><th>Index</th><th>prior</th><th>likelihood</th><th>unnorm</th><th>posterior</th></tr><tr><th></th><th title=\"String\">String</th><th title=\"Float64\">Float64</th><th title=\"Int64\">Int64</th><th title=\"Float64\">Float64</th><th title=\"Float64\">Float64</th></tr></thead><tbody><tr><th>1</th><td>Door 1</td><td>0.333333</td><td>1</td><td>0.333333</td><td>0.5</td></tr><tr><th>2</th><td>Door 2</td><td>0.333333</td><td>0</td><td>0.0</td><td>0.0</td></tr><tr><th>3</th><td>Door 3</td><td>0.333333</td><td>1</td><td>0.333333</td><td>0.5</td></tr></tbody></table></div>"
      ],
      "text/latex": [
       "\\begin{tabular}{r|ccccc}\n",
       "\t& Index & prior & likelihood & unnorm & posterior\\\\\n",
       "\t\\hline\n",
       "\t& String & Float64 & Int64 & Float64 & Float64\\\\\n",
       "\t\\hline\n",
       "\t1 & Door 1 & 0.333333 & 1 & 0.333333 & 0.5 \\\\\n",
       "\t2 & Door 2 & 0.333333 & 0 & 0.0 & 0.0 \\\\\n",
       "\t3 & Door 3 & 0.333333 & 1 & 0.333333 & 0.5 \\\\\n",
       "\\end{tabular}\n"
      ],
      "text/plain": [
       "\u001b[1m3×5 DataFrame\u001b[0m\n",
       "\u001b[1m Row \u001b[0m│\u001b[1m Index  \u001b[0m\u001b[1m prior    \u001b[0m\u001b[1m likelihood \u001b[0m\u001b[1m unnorm   \u001b[0m\u001b[1m posterior \u001b[0m\n",
       "\u001b[1m     \u001b[0m│\u001b[90m String \u001b[0m\u001b[90m Float64  \u001b[0m\u001b[90m Int64      \u001b[0m\u001b[90m Float64  \u001b[0m\u001b[90m Float64   \u001b[0m\n",
       "─────┼───────────────────────────────────────────────────\n",
       "   1 │ Door 1  0.333333           1  0.333333        0.5\n",
       "   2 │ Door 2  0.333333           0  0.0             0.0\n",
       "   3 │ Door 3  0.333333           1  0.333333        0.5"
      ]
     },
     "execution_count": 41,
     "metadata": {},
     "output_type": "execute_result"
    }
   ],
   "source": [
    "monty2=DataFrame(Index=[\"Door 1\", \"Door 2\", \"Door 3\"])\n",
    "monty2.prior=[1/3, 1/3, 1/3]\n",
    "monty2.likelihood=[1, 0, 1]\n",
    "update(monty2)"
   ]
  },
  {
   "cell_type": "code",
   "execution_count": 43,
   "id": "0c6f88f7-98cb-432f-ba95-0d4f1a1c9c7a",
   "metadata": {},
   "outputs": [
    {
     "data": {
      "text/html": [
       "<div class=\"data-frame\"><p>3 rows × 5 columns</p><table class=\"data-frame\"><thead><tr><th></th><th>Index</th><th>prior</th><th>likelihood</th><th>unnorm</th><th>posterior</th></tr><tr><th></th><th title=\"String\">String</th><th title=\"Float64\">Float64</th><th title=\"Int64\">Int64</th><th title=\"Float64\">Float64</th><th title=\"Float64\">Float64</th></tr></thead><tbody><tr><th>1</th><td>Door 1</td><td>0.333333</td><td>0</td><td>0.0</td><td>0.0</td></tr><tr><th>2</th><td>Door 2</td><td>0.333333</td><td>1</td><td>0.333333</td><td>1.0</td></tr><tr><th>3</th><td>Door 3</td><td>0.333333</td><td>0</td><td>0.0</td><td>0.0</td></tr></tbody></table></div>"
      ],
      "text/latex": [
       "\\begin{tabular}{r|ccccc}\n",
       "\t& Index & prior & likelihood & unnorm & posterior\\\\\n",
       "\t\\hline\n",
       "\t& String & Float64 & Int64 & Float64 & Float64\\\\\n",
       "\t\\hline\n",
       "\t1 & Door 1 & 0.333333 & 0 & 0.0 & 0.0 \\\\\n",
       "\t2 & Door 2 & 0.333333 & 1 & 0.333333 & 1.0 \\\\\n",
       "\t3 & Door 3 & 0.333333 & 0 & 0.0 & 0.0 \\\\\n",
       "\\end{tabular}\n"
      ],
      "text/plain": [
       "\u001b[1m3×5 DataFrame\u001b[0m\n",
       "\u001b[1m Row \u001b[0m│\u001b[1m Index  \u001b[0m\u001b[1m prior    \u001b[0m\u001b[1m likelihood \u001b[0m\u001b[1m unnorm   \u001b[0m\u001b[1m posterior \u001b[0m\n",
       "\u001b[1m     \u001b[0m│\u001b[90m String \u001b[0m\u001b[90m Float64  \u001b[0m\u001b[90m Int64      \u001b[0m\u001b[90m Float64  \u001b[0m\u001b[90m Float64   \u001b[0m\n",
       "─────┼───────────────────────────────────────────────────\n",
       "   1 │ Door 1  0.333333           0  0.0             0.0\n",
       "   2 │ Door 2  0.333333           1  0.333333        1.0\n",
       "   3 │ Door 3  0.333333           0  0.0             0.0"
      ]
     },
     "execution_count": 43,
     "metadata": {},
     "output_type": "execute_result"
    }
   ],
   "source": [
    "monty3=DataFrame(Index=[\"Door 1\", \"Door 2\", \"Door 3\"])\n",
    "monty3.prior=[1/3, 1/3, 1/3]\n",
    "monty3.likelihood=[0, 1, 0]\n",
    "update(monty3)"
   ]
  },
  {
   "cell_type": "code",
   "execution_count": 49,
   "id": "b25e12ad-1596-4546-90d0-18352d38a7e1",
   "metadata": {},
   "outputs": [
    {
     "data": {
      "text/html": [
       "<div class=\"data-frame\"><p>2 rows × 5 columns</p><table class=\"data-frame\"><thead><tr><th></th><th>Index</th><th>prior</th><th>likelihood</th><th>unnorm</th><th>posterior</th></tr><tr><th></th><th title=\"String\">String</th><th title=\"Float64\">Float64</th><th title=\"Float64\">Float64</th><th title=\"Float64\">Float64</th><th title=\"Float64\">Float64</th></tr></thead><tbody><tr><th>1</th><td>1994 yellow/1996 green</td><td>0.5</td><td>0.04</td><td>0.02</td><td>0.754717</td></tr><tr><th>2</th><td>1996 yellow/1994 green</td><td>0.5</td><td>0.013</td><td>0.0065</td><td>0.245283</td></tr></tbody></table></div>"
      ],
      "text/latex": [
       "\\begin{tabular}{r|ccccc}\n",
       "\t& Index & prior & likelihood & unnorm & posterior\\\\\n",
       "\t\\hline\n",
       "\t& String & Float64 & Float64 & Float64 & Float64\\\\\n",
       "\t\\hline\n",
       "\t1 & 1994 yellow/1996 green & 0.5 & 0.04 & 0.02 & 0.754717 \\\\\n",
       "\t2 & 1996 yellow/1994 green & 0.5 & 0.013 & 0.0065 & 0.245283 \\\\\n",
       "\\end{tabular}\n"
      ],
      "text/plain": [
       "\u001b[1m2×5 DataFrame\u001b[0m\n",
       "\u001b[1m Row \u001b[0m│\u001b[1m Index                  \u001b[0m\u001b[1m prior   \u001b[0m\u001b[1m likelihood \u001b[0m\u001b[1m unnorm  \u001b[0m\u001b[1m posterior \u001b[0m\n",
       "\u001b[1m     \u001b[0m│\u001b[90m String                 \u001b[0m\u001b[90m Float64 \u001b[0m\u001b[90m Float64    \u001b[0m\u001b[90m Float64 \u001b[0m\u001b[90m Float64   \u001b[0m\n",
       "─────┼─────────────────────────────────────────────────────────────────\n",
       "   1 │ 1994 yellow/1996 green      0.5       0.04    0.02     0.754717\n",
       "   2 │ 1996 yellow/1994 green      0.5       0.013   0.0065   0.245283"
      ]
     },
     "execution_count": 49,
     "metadata": {},
     "output_type": "execute_result"
    }
   ],
   "source": [
    "mandm=DataFrame(Index=[\"1994 yellow/1996 green\", \"1996 yellow/1994 green\"])\n",
    "mandm.prior=[1/2, 1/2]\n",
    "mandm.likelihood=[0.2* 0.2, 0.13* 0.1]\n",
    "update(mandm)"
   ]
  },
  {
   "cell_type": "code",
   "execution_count": null,
   "id": "db0054bc-43a9-4431-947d-90ffcc888c22",
   "metadata": {},
   "outputs": [],
   "source": []
  }
 ],
 "metadata": {
  "kernelspec": {
   "display_name": "Julia 1.7.2",
   "language": "julia",
   "name": "julia-1.7"
  },
  "language_info": {
   "file_extension": ".jl",
   "mimetype": "application/julia",
   "name": "julia",
   "version": "1.7.2"
  }
 },
 "nbformat": 4,
 "nbformat_minor": 5
}
