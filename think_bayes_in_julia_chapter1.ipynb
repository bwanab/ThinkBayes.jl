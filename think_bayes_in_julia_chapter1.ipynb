{
 "cells": [
  {
   "cell_type": "code",
   "execution_count": 9,
   "id": "4d7e32c2-ca9c-4fb3-84e0-8064e97f0c58",
   "metadata": {},
   "outputs": [],
   "source": [
    "using DataFrames\n",
    "using CSV\n",
    "using Statistics"
   ]
  },
  {
   "cell_type": "code",
   "execution_count": 4,
   "id": "5dca1261",
   "metadata": {},
   "outputs": [
    {
     "data": {
      "text/html": [
       "<div class=\"data-frame\"><p>6 rows × 7 columns</p><table class=\"data-frame\"><thead><tr><th></th><th>caseid</th><th>year</th><th>age</th><th>sex</th><th>polviews</th><th>partyid</th><th>indus10</th></tr><tr><th></th><th title=\"Int64\">Int64</th><th title=\"Int64\">Int64</th><th title=\"Float64\">Float64</th><th title=\"Int64\">Int64</th><th title=\"Float64\">Float64</th><th title=\"Float64\">Float64</th><th title=\"Float64\">Float64</th></tr></thead><tbody><tr><th>1</th><td>1</td><td>1974</td><td>21.0</td><td>1</td><td>4.0</td><td>2.0</td><td>4970.0</td></tr><tr><th>2</th><td>2</td><td>1974</td><td>41.0</td><td>1</td><td>5.0</td><td>0.0</td><td>9160.0</td></tr><tr><th>3</th><td>5</td><td>1974</td><td>58.0</td><td>2</td><td>6.0</td><td>1.0</td><td>2670.0</td></tr><tr><th>4</th><td>6</td><td>1974</td><td>30.0</td><td>1</td><td>5.0</td><td>4.0</td><td>6870.0</td></tr><tr><th>5</th><td>7</td><td>1974</td><td>48.0</td><td>1</td><td>5.0</td><td>4.0</td><td>7860.0</td></tr><tr><th>6</th><td>8</td><td>1974</td><td>67.0</td><td>1</td><td>5.0</td><td>0.0</td><td>2870.0</td></tr></tbody></table></div>"
      ],
      "text/latex": [
       "\\begin{tabular}{r|ccccccc}\n",
       "\t& caseid & year & age & sex & polviews & partyid & indus10\\\\\n",
       "\t\\hline\n",
       "\t& Int64 & Int64 & Float64 & Int64 & Float64 & Float64 & Float64\\\\\n",
       "\t\\hline\n",
       "\t1 & 1 & 1974 & 21.0 & 1 & 4.0 & 2.0 & 4970.0 \\\\\n",
       "\t2 & 2 & 1974 & 41.0 & 1 & 5.0 & 0.0 & 9160.0 \\\\\n",
       "\t3 & 5 & 1974 & 58.0 & 2 & 6.0 & 1.0 & 2670.0 \\\\\n",
       "\t4 & 6 & 1974 & 30.0 & 1 & 5.0 & 4.0 & 6870.0 \\\\\n",
       "\t5 & 7 & 1974 & 48.0 & 1 & 5.0 & 4.0 & 7860.0 \\\\\n",
       "\t6 & 8 & 1974 & 67.0 & 1 & 5.0 & 0.0 & 2870.0 \\\\\n",
       "\\end{tabular}\n"
      ],
      "text/plain": [
       "\u001b[1m6×7 DataFrame\u001b[0m\n",
       "\u001b[1m Row \u001b[0m│\u001b[1m caseid \u001b[0m\u001b[1m year  \u001b[0m\u001b[1m age     \u001b[0m\u001b[1m sex   \u001b[0m\u001b[1m polviews \u001b[0m\u001b[1m partyid \u001b[0m\u001b[1m indus10 \u001b[0m\n",
       "\u001b[1m     \u001b[0m│\u001b[90m Int64  \u001b[0m\u001b[90m Int64 \u001b[0m\u001b[90m Float64 \u001b[0m\u001b[90m Int64 \u001b[0m\u001b[90m Float64  \u001b[0m\u001b[90m Float64 \u001b[0m\u001b[90m Float64 \u001b[0m\n",
       "─────┼───────────────────────────────────────────────────────────\n",
       "   1 │      1   1974     21.0      1       4.0      2.0   4970.0\n",
       "   2 │      2   1974     41.0      1       5.0      0.0   9160.0\n",
       "   3 │      5   1974     58.0      2       6.0      1.0   2670.0\n",
       "   4 │      6   1974     30.0      1       5.0      4.0   6870.0\n",
       "   5 │      7   1974     48.0      1       5.0      4.0   7860.0\n",
       "   6 │      8   1974     67.0      1       5.0      0.0   2870.0"
      ]
     },
     "execution_count": 4,
     "metadata": {},
     "output_type": "execute_result"
    }
   ],
   "source": [
    "df = DataFrame(CSV.File(\"/Users/williamallen/src/ThinkBayes2/notebooks/gss_bayes.csv\"))\n",
    "first(df, 6)"
   ]
  },
  {
   "cell_type": "code",
   "execution_count": 5,
   "id": "e3741e16",
   "metadata": {},
   "outputs": [
    {
     "data": {
      "text/html": [
       "<div class=\"data-frame\"><p>6 rows × 7 columns</p><table class=\"data-frame\"><thead><tr><th></th><th>caseid</th><th>year</th><th>age</th><th>sex</th><th>polviews</th><th>partyid</th><th>indus10</th></tr><tr><th></th><th title=\"Int64\">Int64</th><th title=\"Int64\">Int64</th><th title=\"Float64\">Float64</th><th title=\"Int64\">Int64</th><th title=\"Float64\">Float64</th><th title=\"Float64\">Float64</th><th title=\"Float64\">Float64</th></tr></thead><tbody><tr><th>1</th><td>6</td><td>1974</td><td>30.0</td><td>1</td><td>5.0</td><td>4.0</td><td>6870.0</td></tr><tr><th>2</th><td>44</td><td>1974</td><td>54.0</td><td>2</td><td>4.0</td><td>1.0</td><td>6870.0</td></tr><tr><th>3</th><td>56</td><td>1974</td><td>59.0</td><td>1</td><td>5.0</td><td>0.0</td><td>6870.0</td></tr><tr><th>4</th><td>118</td><td>1974</td><td>28.0</td><td>2</td><td>4.0</td><td>1.0</td><td>6870.0</td></tr><tr><th>5</th><td>135</td><td>1974</td><td>30.0</td><td>2</td><td>4.0</td><td>2.0</td><td>6870.0</td></tr><tr><th>6</th><td>180</td><td>1974</td><td>39.0</td><td>2</td><td>4.0</td><td>5.0</td><td>6870.0</td></tr></tbody></table></div>"
      ],
      "text/latex": [
       "\\begin{tabular}{r|ccccccc}\n",
       "\t& caseid & year & age & sex & polviews & partyid & indus10\\\\\n",
       "\t\\hline\n",
       "\t& Int64 & Int64 & Float64 & Int64 & Float64 & Float64 & Float64\\\\\n",
       "\t\\hline\n",
       "\t1 & 6 & 1974 & 30.0 & 1 & 5.0 & 4.0 & 6870.0 \\\\\n",
       "\t2 & 44 & 1974 & 54.0 & 2 & 4.0 & 1.0 & 6870.0 \\\\\n",
       "\t3 & 56 & 1974 & 59.0 & 1 & 5.0 & 0.0 & 6870.0 \\\\\n",
       "\t4 & 118 & 1974 & 28.0 & 2 & 4.0 & 1.0 & 6870.0 \\\\\n",
       "\t5 & 135 & 1974 & 30.0 & 2 & 4.0 & 2.0 & 6870.0 \\\\\n",
       "\t6 & 180 & 1974 & 39.0 & 2 & 4.0 & 5.0 & 6870.0 \\\\\n",
       "\\end{tabular}\n"
      ],
      "text/plain": [
       "\u001b[1m6×7 DataFrame\u001b[0m\n",
       "\u001b[1m Row \u001b[0m│\u001b[1m caseid \u001b[0m\u001b[1m year  \u001b[0m\u001b[1m age     \u001b[0m\u001b[1m sex   \u001b[0m\u001b[1m polviews \u001b[0m\u001b[1m partyid \u001b[0m\u001b[1m indus10 \u001b[0m\n",
       "\u001b[1m     \u001b[0m│\u001b[90m Int64  \u001b[0m\u001b[90m Int64 \u001b[0m\u001b[90m Float64 \u001b[0m\u001b[90m Int64 \u001b[0m\u001b[90m Float64  \u001b[0m\u001b[90m Float64 \u001b[0m\u001b[90m Float64 \u001b[0m\n",
       "─────┼───────────────────────────────────────────────────────────\n",
       "   1 │      6   1974     30.0      1       5.0      4.0   6870.0\n",
       "   2 │     44   1974     54.0      2       4.0      1.0   6870.0\n",
       "   3 │     56   1974     59.0      1       5.0      0.0   6870.0\n",
       "   4 │    118   1974     28.0      2       4.0      1.0   6870.0\n",
       "   5 │    135   1974     30.0      2       4.0      2.0   6870.0\n",
       "   6 │    180   1974     39.0      2       4.0      5.0   6870.0"
      ]
     },
     "execution_count": 5,
     "metadata": {},
     "output_type": "execute_result"
    }
   ],
   "source": [
    "bankers=df[(df.indus10.==6870), :]\n",
    "first(bankers, 6)"
   ]
  },
  {
   "cell_type": "code",
   "execution_count": 6,
   "id": "93f4c992",
   "metadata": {},
   "outputs": [
    {
     "data": {
      "text/plain": [
       "1.4769730168391155"
      ]
     },
     "execution_count": 6,
     "metadata": {},
     "output_type": "execute_result"
    }
   ],
   "source": [
    "100*nrow(bankers)/nrow(df)"
   ]
  },
  {
   "cell_type": "code",
   "execution_count": 78,
   "id": "836c56e6-bdd0-4ad1-85db-2f9f0321f51a",
   "metadata": {},
   "outputs": [
    {
     "data": {
      "text/plain": [
       "prob (generic function with 2 methods)"
      ]
     },
     "execution_count": 78,
     "metadata": {},
     "output_type": "execute_result"
    }
   ],
   "source": [
    "function prob(A)\n",
    "    mean(A)\n",
    "end"
   ]
  },
  {
   "cell_type": "code",
   "execution_count": 79,
   "id": "96b08f19",
   "metadata": {},
   "outputs": [
    {
     "data": {
      "text/plain": [
       "0.014769730168391155"
      ]
     },
     "execution_count": 79,
     "metadata": {},
     "output_type": "execute_result"
    }
   ],
   "source": [
    "banker=(df.indus10.==6870)\n",
    "prob(banker)"
   ]
  },
  {
   "cell_type": "code",
   "execution_count": 80,
   "id": "4bac1383",
   "metadata": {},
   "outputs": [
    {
     "data": {
      "text/plain": [
       "0.5378575776019476"
      ]
     },
     "execution_count": 80,
     "metadata": {},
     "output_type": "execute_result"
    }
   ],
   "source": [
    "female=(df.sex.==2)\n",
    "prob(female)"
   ]
  },
  {
   "cell_type": "code",
   "execution_count": 81,
   "id": "76b6a2ce",
   "metadata": {},
   "outputs": [
    {
     "data": {
      "text/plain": [
       "0.27374721038750255"
      ]
     },
     "execution_count": 81,
     "metadata": {},
     "output_type": "execute_result"
    }
   ],
   "source": [
    "liberal=(df.polviews.<=3)\n",
    "prob(liberal)"
   ]
  },
  {
   "cell_type": "code",
   "execution_count": 82,
   "id": "c49dd754",
   "metadata": {},
   "outputs": [
    {
     "data": {
      "text/plain": [
       "0.3662609048488537"
      ]
     },
     "execution_count": 82,
     "metadata": {},
     "output_type": "execute_result"
    }
   ],
   "source": [
    "democrat=(df.partyid.<=1)\n",
    "prob(democrat)"
   ]
  },
  {
   "cell_type": "code",
   "execution_count": 83,
   "id": "8f91af36",
   "metadata": {},
   "outputs": [
    {
     "data": {
      "text/plain": [
       "0.004686548995739501"
      ]
     },
     "execution_count": 83,
     "metadata": {},
     "output_type": "execute_result"
    }
   ],
   "source": [
    "prob(banker.&democrat)"
   ]
  },
  {
   "cell_type": "code",
   "execution_count": 84,
   "id": "df2b5bd7-4906-46e6-ba62-c59b232e2fba",
   "metadata": {},
   "outputs": [
    {
     "data": {
      "text/plain": [
       "0.5206403320240125"
      ]
     },
     "execution_count": 84,
     "metadata": {},
     "output_type": "execute_result"
    }
   ],
   "source": [
    "liberals=df[df.is_liberal,:]\n",
    "prob(liberals.is_democrat)"
   ]
  },
  {
   "cell_type": "code",
   "execution_count": 85,
   "id": "a9ae6143-2490-45d4-91d7-05a220f9193f",
   "metadata": {},
   "outputs": [
    {
     "data": {
      "text/plain": [
       "0.5206403320240125"
      ]
     },
     "execution_count": 85,
     "metadata": {},
     "output_type": "execute_result"
    }
   ],
   "source": [
    "prob(democrat[liberal])"
   ]
  },
  {
   "cell_type": "code",
   "execution_count": 86,
   "id": "81883045",
   "metadata": {},
   "outputs": [
    {
     "data": {
      "text/plain": [
       "0.7706043956043956"
      ]
     },
     "execution_count": 86,
     "metadata": {},
     "output_type": "execute_result"
    }
   ],
   "source": [
    "prob(female[banker])"
   ]
  },
  {
   "cell_type": "code",
   "execution_count": 87,
   "id": "09cfd98a-454a-47fd-8e59-13dbb791d936",
   "metadata": {},
   "outputs": [
    {
     "data": {
      "text/plain": [
       "conditional (generic function with 1 method)"
      ]
     },
     "execution_count": 87,
     "metadata": {},
     "output_type": "execute_result"
    }
   ],
   "source": [
    "function conditional(proposition; given)\n",
    "    prob(proposition[given])\n",
    "end"
   ]
  },
  {
   "cell_type": "code",
   "execution_count": 88,
   "id": "a61deb9d-58b0-41a9-a755-8ba2fc90038c",
   "metadata": {},
   "outputs": [
    {
     "data": {
      "text/plain": [
       "0.7706043956043956"
      ]
     },
     "execution_count": 88,
     "metadata": {},
     "output_type": "execute_result"
    }
   ],
   "source": [
    "conditional(female, given=banker)"
   ]
  },
  {
   "cell_type": "code",
   "execution_count": 89,
   "id": "ae035747-ea32-47eb-ac64-0e66bac2f4c3",
   "metadata": {},
   "outputs": [
    {
     "data": {
      "text/plain": [
       "0.27581004111500884"
      ]
     },
     "execution_count": 89,
     "metadata": {},
     "output_type": "execute_result"
    }
   ],
   "source": [
    "conditional(liberal, given=female)"
   ]
  },
  {
   "cell_type": "code",
   "execution_count": 90,
   "id": "514e96d4-8ebd-4703-be0e-2b9413df3912",
   "metadata": {},
   "outputs": [
    {
     "data": {
      "text/plain": [
       "0.02116102749801969"
      ]
     },
     "execution_count": 90,
     "metadata": {},
     "output_type": "execute_result"
    }
   ],
   "source": [
    "conditional(banker, given=female)"
   ]
  },
  {
   "cell_type": "code",
   "execution_count": 91,
   "id": "ee759ab6-19c4-4c80-bb4a-8bde7cac4f47",
   "metadata": {},
   "outputs": [
    {
     "data": {
      "text/plain": [
       "0.5206403320240125"
      ]
     },
     "execution_count": 91,
     "metadata": {},
     "output_type": "execute_result"
    }
   ],
   "source": [
    "conditional(democrat, given=liberal)"
   ]
  },
  {
   "cell_type": "code",
   "execution_count": 92,
   "id": "6cf604f3-8f52-4442-90b2-c2dec48614b3",
   "metadata": {},
   "outputs": [
    {
     "data": {
      "text/plain": [
       "0.576085409252669"
      ]
     },
     "execution_count": 92,
     "metadata": {},
     "output_type": "execute_result"
    }
   ],
   "source": [
    "conditional(female, given=liberal.&democrat)"
   ]
  },
  {
   "cell_type": "code",
   "execution_count": 93,
   "id": "110c5a3b-33a0-4005-a565-9812ba81a17b",
   "metadata": {},
   "outputs": [
    {
     "data": {
      "text/plain": [
       "0.17307692307692307"
      ]
     },
     "execution_count": 93,
     "metadata": {},
     "output_type": "execute_result"
    }
   ],
   "source": [
    "conditional(female.&liberal, given=banker)"
   ]
  },
  {
   "cell_type": "markdown",
   "id": "66653189-b34e-41af-af6c-5821be068492",
   "metadata": {},
   "source": [
    "_Theorem 1_"
   ]
  },
  {
   "cell_type": "code",
   "execution_count": 94,
   "id": "82a594a0-9a2b-42c4-9924-d06e30ac7425",
   "metadata": {},
   "outputs": [
    {
     "data": {
      "text/plain": [
       "true"
      ]
     },
     "execution_count": 94,
     "metadata": {},
     "output_type": "execute_result"
    }
   ],
   "source": [
    "prob(female.&banker) / prob(banker)==conditional(female,given=banker)"
   ]
  },
  {
   "cell_type": "markdown",
   "id": "8b375b22-0476-4225-8e08-5ea21866b28a",
   "metadata": {},
   "source": [
    "_Theorem 2_"
   ]
  },
  {
   "cell_type": "code",
   "execution_count": 95,
   "id": "1535fa91-b55e-4525-84f6-3a1e1492ddd1",
   "metadata": {},
   "outputs": [
    {
     "data": {
      "text/plain": [
       "true"
      ]
     },
     "execution_count": 95,
     "metadata": {},
     "output_type": "execute_result"
    }
   ],
   "source": [
    "prob(liberal.&democrat)==prob(democrat)*conditional(liberal, given=democrat)"
   ]
  },
  {
   "cell_type": "markdown",
   "id": "10f74d8a-37b1-46c0-a576-6684ba5dabff",
   "metadata": {},
   "source": [
    "_Theorem 3_ (__Bayes Theorem__)"
   ]
  },
  {
   "cell_type": "code",
   "execution_count": 96,
   "id": "b2180fc5-7762-4cf6-b1a5-8e9e5c4cb7e6",
   "metadata": {},
   "outputs": [
    {
     "data": {
      "text/plain": [
       "0.2239010989010989"
      ]
     },
     "execution_count": 96,
     "metadata": {},
     "output_type": "execute_result"
    }
   ],
   "source": [
    "conditional(liberal, given=banker)"
   ]
  },
  {
   "cell_type": "code",
   "execution_count": 98,
   "id": "a49f1fbc-0ff8-43b1-b85b-58cef26dd763",
   "metadata": {},
   "outputs": [
    {
     "data": {
      "text/plain": [
       "0.2239010989010989"
      ]
     },
     "execution_count": 98,
     "metadata": {},
     "output_type": "execute_result"
    }
   ],
   "source": [
    "prob(liberal) * conditional(banker, given=liberal) / prob(banker)"
   ]
  },
  {
   "cell_type": "markdown",
   "id": "c4f64ced-1b54-4f2e-b789-9b91ffe19f50",
   "metadata": {},
   "source": [
    "_Law of Total Probability_"
   ]
  },
  {
   "cell_type": "code",
   "execution_count": 102,
   "id": "6e917969-cf82-469b-85f1-693daba212e8",
   "metadata": {},
   "outputs": [
    {
     "data": {
      "text/plain": [
       "true"
      ]
     },
     "execution_count": 102,
     "metadata": {},
     "output_type": "execute_result"
    }
   ],
   "source": [
    "male=(df.sex.==1)\n",
    "prob(male.&banker)+prob(female.&banker)==prob(banker)"
   ]
  },
  {
   "cell_type": "code",
   "execution_count": 103,
   "id": "f77adc60-1628-41d7-8d7f-0a5c7ac6f904",
   "metadata": {},
   "outputs": [
    {
     "data": {
      "text/plain": [
       "0.014769730168391153"
      ]
     },
     "execution_count": 103,
     "metadata": {},
     "output_type": "execute_result"
    }
   ],
   "source": [
    "(prob(male) * conditional(banker, given=male) +\n",
    "prob(female) * conditional(banker, given=female))"
   ]
  },
  {
   "cell_type": "code",
   "execution_count": 108,
   "id": "432c6194-8c3a-4955-957a-03afa0e3595f",
   "metadata": {},
   "outputs": [
    {
     "data": {
      "text/plain": [
       "0.02925542706431325"
      ]
     },
     "execution_count": 108,
     "metadata": {},
     "output_type": "execute_result"
    }
   ],
   "source": [
    "B=df.polviews\n",
    "i=1\n",
    "prob(B.==i)"
   ]
  },
  {
   "cell_type": "code",
   "execution_count": 117,
   "id": "ba7201d2-2ccb-4962-a34d-1ae539a4977e",
   "metadata": {},
   "outputs": [
    {
     "data": {
      "text/plain": [
       "0.014769730168391157"
      ]
     },
     "execution_count": 117,
     "metadata": {},
     "output_type": "execute_result"
    }
   ],
   "source": [
    "sum([prob(B.==i) * conditional(banker, given=B.==i) for i in 1:7])"
   ]
  },
  {
   "cell_type": "markdown",
   "id": "ec3ac84e-84ee-45ef-aa33-648754b8cb3d",
   "metadata": {},
   "source": [
    "# Exercises"
   ]
  },
  {
   "cell_type": "code",
   "execution_count": 118,
   "id": "09078ada-5c0e-41e1-b7b4-e514c5ce9f0c",
   "metadata": {},
   "outputs": [
    {
     "data": {
      "text/plain": [
       "0.011381618989653074"
      ]
     },
     "execution_count": 118,
     "metadata": {},
     "output_type": "execute_result"
    }
   ],
   "source": [
    "prob(female.&banker)"
   ]
  },
  {
   "cell_type": "code",
   "execution_count": 119,
   "id": "f684fc5d-ed85-4d31-8f59-29c8d2d4fcaf",
   "metadata": {},
   "outputs": [
    {
     "data": {
      "text/plain": [
       "0.002556299452221546"
      ]
     },
     "execution_count": 119,
     "metadata": {},
     "output_type": "execute_result"
    }
   ],
   "source": [
    "prob(female.&liberal.&banker)"
   ]
  },
  {
   "cell_type": "code",
   "execution_count": 120,
   "id": "76fb2e7b-de5f-4658-8c94-872d2e83175d",
   "metadata": {},
   "outputs": [
    {
     "data": {
      "text/plain": [
       "0.0012375735443294787"
      ]
     },
     "execution_count": 120,
     "metadata": {},
     "output_type": "execute_result"
    }
   ],
   "source": [
    "prob(female.&liberal.&banker.&democrat)"
   ]
  },
  {
   "cell_type": "code",
   "execution_count": 122,
   "id": "447a1bbd-3fc7-4e15-b344-673af3b26be7",
   "metadata": {},
   "outputs": [
    {
     "data": {
      "text/plain": [
       "0.3891320002215698"
      ]
     },
     "execution_count": 122,
     "metadata": {},
     "output_type": "execute_result"
    }
   ],
   "source": [
    "conditional(liberal, given=democrat)"
   ]
  },
  {
   "cell_type": "code",
   "execution_count": 123,
   "id": "90a916ca-d8b2-46e6-aa93-c714cdf49271",
   "metadata": {},
   "outputs": [
    {
     "data": {
      "text/plain": [
       "0.5206403320240125"
      ]
     },
     "execution_count": 123,
     "metadata": {},
     "output_type": "execute_result"
    }
   ],
   "source": [
    "conditional(democrat, given=liberal)"
   ]
  },
  {
   "cell_type": "code",
   "execution_count": 129,
   "id": "5ff004b4-ed5e-4383-b663-1c076523703a",
   "metadata": {},
   "outputs": [
    {
     "name": "stdout",
     "output_type": "stream",
     "text": [
      "0.19435991073240008"
     ]
    },
    {
     "data": {
      "text/plain": [
       "0.17328058429701765"
      ]
     },
     "execution_count": 129,
     "metadata": {},
     "output_type": "execute_result"
    }
   ],
   "source": [
    "young=(df.age.<30)\n",
    "print(prob(young))\n",
    "old=(df.age.>=65)\n",
    "prob(old)"
   ]
  },
  {
   "cell_type": "code",
   "execution_count": 130,
   "id": "8f38000c-cb94-4cde-8353-19f5dcbcf777",
   "metadata": {},
   "outputs": [
    {
     "data": {
      "text/plain": [
       "0.3419354838709677"
      ]
     },
     "execution_count": 130,
     "metadata": {},
     "output_type": "execute_result"
    }
   ],
   "source": [
    "conservative=(df.polviews.>=5)\n",
    "prob(conservative)"
   ]
  },
  {
   "cell_type": "code",
   "execution_count": 131,
   "id": "22cbaca7-f24d-411a-8c59-66ac6c78cd2c",
   "metadata": {},
   "outputs": [
    {
     "data": {
      "text/plain": [
       "0.06579427875836884"
      ]
     },
     "execution_count": 131,
     "metadata": {},
     "output_type": "execute_result"
    }
   ],
   "source": [
    "prob(young.&liberal)"
   ]
  },
  {
   "cell_type": "code",
   "execution_count": 132,
   "id": "b810b7e4-4a74-4f4e-8ccb-476354547222",
   "metadata": {},
   "outputs": [
    {
     "data": {
      "text/plain": [
       "0.338517745302714"
      ]
     },
     "execution_count": 132,
     "metadata": {},
     "output_type": "execute_result"
    }
   ],
   "source": [
    "conditional(liberal, given=young)"
   ]
  },
  {
   "cell_type": "code",
   "execution_count": 133,
   "id": "ebcab9e8-f66f-4866-a95a-b1c9307ae34d",
   "metadata": {},
   "outputs": [
    {
     "data": {
      "text/plain": [
       "0.06701156421180766"
      ]
     },
     "execution_count": 133,
     "metadata": {},
     "output_type": "execute_result"
    }
   ],
   "source": [
    "prob(old.&conservative)"
   ]
  },
  {
   "cell_type": "code",
   "execution_count": 134,
   "id": "6e537c5b-c711-48cf-aa38-bbc566d43d6b",
   "metadata": {},
   "outputs": [
    {
     "data": {
      "text/plain": [
       "0.19597721609113564"
      ]
     },
     "execution_count": 134,
     "metadata": {},
     "output_type": "execute_result"
    }
   ],
   "source": [
    "conditional(old, given=conservative)"
   ]
  },
  {
   "cell_type": "code",
   "execution_count": null,
   "id": "3ddfd098-0a14-47c8-8ff0-6717130967f9",
   "metadata": {},
   "outputs": [],
   "source": []
  }
 ],
 "metadata": {
  "kernelspec": {
   "display_name": "Julia 1.7.2",
   "language": "julia",
   "name": "julia-1.7"
  },
  "language_info": {
   "file_extension": ".jl",
   "mimetype": "application/julia",
   "name": "julia",
   "version": "1.7.2"
  }
 },
 "nbformat": 4,
 "nbformat_minor": 5
}
